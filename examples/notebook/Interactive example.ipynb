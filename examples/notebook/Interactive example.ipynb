{
 "cells": [
  {
   "cell_type": "markdown",
   "metadata": {},
   "source": [
    "In this example, a simple simulation system with 300 ionic pairs of [BMIM][BF4]\n",
    "ionic liquid is mapped from coarse-grained (CG) to fully atomistic (AA)\n",
    "resolution. Here, the Manager class is used to achieve an easier implementation\n",
    "of the mapping."
   ]
  },
  {
   "cell_type": "code",
   "execution_count": 28,
   "metadata": {},
   "outputs": [],
   "source": [
    "from gaddlemaps import Manager, interactive_restrictions, comparate_alignment\n",
    "from gaddlemaps.components import Molecule"
   ]
  },
  {
   "cell_type": "markdown",
   "metadata": {},
   "source": [
    "First, a Manager instance needs to be created. The easiest way to do that is\n",
    "using the \"from_files\" class method. The first argument of this method is the\n",
    "path to the gro file with the CG configuration of the system that we want to\n",
    "map. The following arguments are all the files with the topology information\n",
    "of the molecules that you want to map. For example, if you have a system with\n",
    "a lot of water molecules, our advise is not to map these water molecules and\n",
    "resolvate the system once you have mapped the rest of the molecules. In that\n",
    "case, you should not pass the topology file of the water to the Manager\n",
    "initialization."
   ]
  },
  {
   "cell_type": "code",
   "execution_count": 29,
   "metadata": {},
   "outputs": [],
   "source": [
    "manager = Manager.from_files(\n",
    "    '../../gaddlemaps/data/system_bmimbf4_cg.gro',\n",
    "    '../../gaddlemaps/data/BMIM_CG.itp',\n",
    "    '../../gaddlemaps/data/BF4_CG.itp'\n",
    ")"
   ]
  },
  {
   "cell_type": "markdown",
   "metadata": {},
   "source": [
    "Now, we need to specify the molecules in the final resolution (AA). In this\n",
    "example, we initialize two instances of Molecule, one for the BMIM molecule\n",
    "and other for the BF4 one. For this task, we create a System object with the\n",
    "gro and the corresponding topology files. Then, we take the first element of\n",
    "these systems which are the desired molecules (as the input gro files only\n",
    "contain one molecule).\n",
    "We could also have created these molecules with the Molecule.from_file method"
   ]
  },
  {
   "cell_type": "code",
   "execution_count": 30,
   "metadata": {},
   "outputs": [],
   "source": [
    "bmim_aa = Molecule.from_files('../../gaddlemaps/data/BMIM_AA.gro',\n",
    "                              '../../gaddlemaps/data/BMIM_AA.itp')\n",
    "bf4_aa = Molecule.from_files('../../gaddlemaps/data/BF4_AA.gro',\n",
    "                             '../../gaddlemaps/data/BF4_AA.itp')"
   ]
  },
  {
   "cell_type": "markdown",
   "metadata": {},
   "source": [
    "Once the molecules are created, we need to specify which one correspond with\n",
    "the molecules in the initial resolution. For that, we have 2 options. First,\n",
    "we can use the add_end_molecules method of Manager, which will automatically\n",
    "detect the corresponding molecules based on their names attribute."
   ]
  },
  {
   "cell_type": "code",
   "execution_count": 31,
   "metadata": {},
   "outputs": [],
   "source": [
    "manager.add_end_molecules(bmim_aa, bf4_aa)"
   ]
  },
  {
   "cell_type": "markdown",
   "metadata": {},
   "source": [
    "The second option is to assign the molecules manually. For this, we have to\n",
    "access the element with the correct name in molecule_correspondence attribute\n",
    "and set the \"end\" attribute. This option has the advantage that it is not\n",
    "necessary that the molecules have the same name in both resolution."
   ]
  },
  {
   "cell_type": "code",
   "execution_count": 32,
   "metadata": {},
   "outputs": [],
   "source": [
    "manager.molecule_correspondence['BMIM'].end = bmim_aa\n",
    "manager.molecule_correspondence['BF4'].end = bf4_aa"
   ]
  },
  {
   "cell_type": "markdown",
   "metadata": {},
   "source": [
    "We can add some restrictions to help mapping molecules that have some simmetry.\n",
    "This restrictions will be used as hints for alignning the molecules.\n",
    "The easiest way to create the restrictions is using the interactive widget. The usage is very simple,\n",
    "just click in one of the atoms of the molecule CG and one of the AA molecule and press\n",
    "the button \"add_restriction\". When finished move to the next cell."
   ]
  },
  {
   "cell_type": "code",
   "execution_count": 33,
   "metadata": {},
   "outputs": [
    {
     "data": {
      "application/vnd.jupyter.widget-view+json": {
       "model_id": "3575053b4e69435da2a6aa6f64c13fd9",
       "version_major": 2,
       "version_minor": 0
      },
      "text/plain": [
       "VBox(children=(VBox(children=(Label(value='$\\\\textbf{BMIM}$'), Label(value='Low Resolution'), NGLWidget(), Lab…"
      ]
     },
     "metadata": {},
     "output_type": "display_data"
    }
   ],
   "source": [
    "restriction_widget, restrictions = interactive_restrictions(manager)\n",
    "restriction_widget"
   ]
  },
  {
   "cell_type": "markdown",
   "metadata": {},
   "source": [
    "Now we can perform the aligmnet with the restrictions that we have just created."
   ]
  },
  {
   "cell_type": "code",
   "execution_count": 41,
   "metadata": {},
   "outputs": [
    {
     "name": "stdout",
     "output_type": "stream",
     "text": [
      "Aligning BMIM:\n",
      "\n",
      "Aligning BF4:\n",
      "\n"
     ]
    }
   ],
   "source": [
    "manager.align_molecules(restrictions=restrictions)"
   ]
  },
  {
   "cell_type": "markdown",
   "metadata": {},
   "source": [
    "The execution of the alignment usually is the most time spending step\n",
    "(although it is not for this example as the molecules are very small).\n",
    "Once the molecules are aligned, the exchange maps need to be initialized."
   ]
  },
  {
   "cell_type": "markdown",
   "metadata": {},
   "source": [
    "The \"scale_factor\" parameter is used to reduce the final size of the mapped\n",
    "molecules (if the factor is smaller than 1). This avoids possible molecule\n",
    "overlapping. However, take into account that this will produce molecular\n",
    "deformations. This deformations are easily removed with a short energy\n",
    "minimization.\n",
    "Finally, we can extrapolate the found alignment to the rest of the molecules\n",
    "in the system calling the \"extrapolate_system\" method with the desired output\n",
    "file name as parameter."
   ]
  },
  {
   "cell_type": "code",
   "execution_count": 42,
   "metadata": {},
   "outputs": [],
   "source": [
    "manager.calculate_exchange_maps(scale_factor=0.5)\n",
    "manager.extrapolate_system('example_bmim_bf4_map.gro')"
   ]
  },
  {
   "cell_type": "markdown",
   "metadata": {},
   "source": [
    "It is very recommended to check the found alignment for each molecule type.\n",
    "For this task, we can call the \"write_comparative_gro\" method of the Alignment\n",
    "object for each molecule. By default, this method will write a file for each\n",
    "molecule with the name \"{molecule.name}_compare.gro\". In these gro files you\n",
    "will find two molecules with the residue names and ids \"START\", 1 and \"END\", 2\n",
    "for the molecules in the initial and final resolution respectively. You can\n",
    "use any external software of molecular visualization to check if the \"END\"\n",
    "molecule correctly overlaps the \"START\" one. "
   ]
  },
  {
   "cell_type": "code",
   "execution_count": 43,
   "metadata": {},
   "outputs": [],
   "source": [
    "for align in manager.molecule_correspondence.values():\n",
    "    align.write_comparative_gro()"
   ]
  },
  {
   "cell_type": "code",
   "execution_count": 44,
   "metadata": {},
   "outputs": [],
   "source": [
    "# Esto está solo mientras pase lo de que se carga los residuos, solo vale para moleculas de 1 residuo\n",
    "for specie in manager.molecule_correspondence:\n",
    "    manager.molecule_correspondence[specie].end.molecule_top.resnames = [specie]\n",
    "    manager.molecule_correspondence[specie].start.molecule_top.resnames = [specie]"
   ]
  },
  {
   "cell_type": "code",
   "execution_count": 53,
   "metadata": {},
   "outputs": [
    {
     "data": {
      "application/vnd.jupyter.widget-view+json": {
       "model_id": "68d2ff859c6e4410ad577bffee2153b5",
       "version_major": 2,
       "version_minor": 0
      },
      "text/plain": [
       "VBox(children=(Label(value='BMIM'), NGLWidget(), Label(value='BF4'), NGLWidget()))"
      ]
     },
     "metadata": {},
     "output_type": "display_data"
    }
   ],
   "source": [
    "# Por alguna razón no le gusta el BF4, hay que probar con otros\n",
    "comparate_alignment(manager, radius=2.5)"
   ]
  },
  {
   "cell_type": "code",
   "execution_count": null,
   "metadata": {},
   "outputs": [],
   "source": []
  }
 ],
 "metadata": {
  "kernelspec": {
   "display_name": "Python 3",
   "language": "python",
   "name": "python3"
  },
  "language_info": {
   "codemirror_mode": {
    "name": "ipython",
    "version": 3
   },
   "file_extension": ".py",
   "mimetype": "text/x-python",
   "name": "python",
   "nbconvert_exporter": "python",
   "pygments_lexer": "ipython3",
   "version": "3.7.4"
  }
 },
 "nbformat": 4,
 "nbformat_minor": 2
}
