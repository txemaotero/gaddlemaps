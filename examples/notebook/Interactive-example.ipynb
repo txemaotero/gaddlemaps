{
 "cells": [
  {
   "cell_type": "markdown",
   "metadata": {},
   "source": [
    "In this example, a simple simulation system with 300 ionic pairs of [BMIM][BF4]\n",
    "ionic liquid is mapped from coarse-grained (CG) to fully atomistic (AA)\n",
    "resolution. Here, the Manager class is used to achieve an easier implementation\n",
    "of the mapping."
   ]
  },
  {
   "cell_type": "code",
   "execution_count": 1,
   "metadata": {},
   "outputs": [],
   "source": [
    "from gaddlemaps import Manager, interactive_restrictions, compare_alignment\n",
    "from gaddlemaps.components import Molecule"
   ]
  },
  {
   "cell_type": "markdown",
   "metadata": {},
   "source": [
    "First, a Manager instance needs to be created. The easiest way to do that is\n",
    "using the \"from_files\" class method. The first argument of this method is the\n",
    "path to the gro file with the CG configuration of the system that we want to\n",
    "map. The following arguments are all the files with the topology information\n",
    "of the molecules that you want to map. For example, if you have a system with\n",
    "a lot of water molecules, our advise is not to map these water molecules and\n",
    "resolvate the system once you have mapped the rest of the molecules. In that\n",
    "case, you should not pass the topology file of the water to the Manager\n",
    "initialization."
   ]
  },
  {
   "cell_type": "code",
   "execution_count": 2,
   "metadata": {},
   "outputs": [],
   "source": [
    "manager = Manager.from_files(\n",
    "    '../../gaddlemaps/data/system_bmimbf4_cg.gro',\n",
    "    '../../gaddlemaps/data/BMIM_CG.itp',\n",
    "    '../../gaddlemaps/data/BF4_CG.itp'\n",
    ")"
   ]
  },
  {
   "cell_type": "markdown",
   "metadata": {},
   "source": [
    "Now, we need to specify the molecules in the final resolution (AA). In this\n",
    "example, we initialize two instances of Molecule, one for the BMIM molecule\n",
    "and other for the BF4 one. For this task, we create a System object with the\n",
    "gro and the corresponding topology files. Then, we take the first element of\n",
    "these systems which are the desired molecules (as the input gro files only\n",
    "contain one molecule).\n",
    "We could also have created these molecules with the Molecule.from_file method"
   ]
  },
  {
   "cell_type": "code",
   "execution_count": 3,
   "metadata": {},
   "outputs": [],
   "source": [
    "bmim_aa = Molecule.from_files('../../gaddlemaps/data/BMIM_AA.gro',\n",
    "                              '../../gaddlemaps/data/BMIM_AA.itp')\n",
    "bf4_aa = Molecule.from_files('../../gaddlemaps/data/BF4_AA.gro',\n",
    "                             '../../gaddlemaps/data/BF4_AA.itp')"
   ]
  },
  {
   "cell_type": "markdown",
   "metadata": {},
   "source": [
    "Once the molecules are created, we need to specify which one correspond with\n",
    "the molecules in the initial resolution. For that, we have 2 options. First,\n",
    "we can use the add_end_molecules method of Manager, which will automatically\n",
    "detect the corresponding molecules based on their names attribute."
   ]
  },
  {
   "cell_type": "code",
   "execution_count": 4,
   "metadata": {},
   "outputs": [],
   "source": [
    "manager.add_end_molecules(bmim_aa, bf4_aa)"
   ]
  },
  {
   "cell_type": "markdown",
   "metadata": {},
   "source": [
    "The second option is to assign the molecules manually. For this, we have to\n",
    "access the element with the correct name in molecule_correspondence attribute\n",
    "and set the \"end\" attribute. This option has the advantage that it is not\n",
    "necessary that the molecules have the same name in both resolution."
   ]
  },
  {
   "cell_type": "code",
   "execution_count": 5,
   "metadata": {},
   "outputs": [],
   "source": [
    "manager.molecule_correspondence['BMIM'].end = bmim_aa\n",
    "manager.molecule_correspondence['BF4'].end = bf4_aa"
   ]
  },
  {
   "cell_type": "markdown",
   "metadata": {},
   "source": [
    "We can add some restrictions to help mapping molecules that have some simmetry.\n",
    "This restrictions will be used as hints for alignning the molecules.\n",
    "The easiest way to create the restrictions is using the interactive widget. The usage is very simple,\n",
    "just click in one of the atoms of the molecule CG and one of the AA molecule and press\n",
    "the button \"add_restriction\". When finished move to the next cell."
   ]
  },
  {
   "cell_type": "code",
   "execution_count": 6,
   "metadata": {},
   "outputs": [
    {
     "data": {
      "application/vnd.jupyter.widget-view+json": {
       "model_id": "f6c79f83199d43fd995a3691571334de",
       "version_major": 2,
       "version_minor": 0
      },
      "text/plain": [
       "_ColormakerRegistry()"
      ]
     },
     "metadata": {},
     "output_type": "display_data"
    },
    {
     "data": {
      "application/vnd.jupyter.widget-view+json": {
       "model_id": "1792c4a6f1c94a31aca4cfd21bbe0efb",
       "version_major": 2,
       "version_minor": 0
      },
      "text/plain": [
       "VBox(children=(VBox(children=(Label(value='$\\\\textbf{BMIM}$'), Label(value='Low Resolution'), NGLWidget(), Lab…"
      ]
     },
     "metadata": {},
     "output_type": "display_data"
    }
   ],
   "source": [
    "restriction_widget, restrictions = interactive_restrictions(manager)\n",
    "restriction_widget"
   ]
  },
  {
   "cell_type": "markdown",
   "metadata": {},
   "source": [
    "Now we can perform the aligmnet with the restrictions that we have just created."
   ]
  },
  {
   "cell_type": "code",
   "execution_count": 7,
   "metadata": {},
   "outputs": [
    {
     "name": "stdout",
     "output_type": "stream",
     "text": [
      "Aligning BMIM:\n",
      "\n",
      "Aligning BF4:\n",
      "\n"
     ]
    }
   ],
   "source": [
    "manager.align_molecules(restrictions=restrictions)"
   ]
  },
  {
   "cell_type": "markdown",
   "metadata": {},
   "source": [
    "The execution of the alignment usually is the most time spending step\n",
    "(although it is not for this example as the molecules are very small).\n",
    "Once the molecules are aligned, the exchange maps need to be initialized."
   ]
  },
  {
   "cell_type": "markdown",
   "metadata": {},
   "source": [
    "The \"scale_factor\" parameter is used to reduce the final size of the mapped\n",
    "molecules (if the factor is smaller than 1). This avoids possible molecule\n",
    "overlapping. However, take into account that this will produce molecular\n",
    "deformations. This deformations are easily removed with a short energy\n",
    "minimization.\n",
    "Finally, we can extrapolate the found alignment to the rest of the molecules\n",
    "in the system calling the \"extrapolate_system\" method with the desired output\n",
    "file name as parameter."
   ]
  },
  {
   "cell_type": "code",
   "execution_count": 8,
   "metadata": {},
   "outputs": [],
   "source": [
    "manager.calculate_exchange_maps(scale_factor=0.5)\n",
    "manager.extrapolate_system('example_bmim_bf4_map.gro')"
   ]
  },
  {
   "cell_type": "markdown",
   "metadata": {},
   "source": [
    "It is very recommended to check the found alignment for each molecule type.\n",
    "For this task, we can call the \"write_comparative_gro\" method of the Alignment\n",
    "object for each molecule. By default, this method will write a file for each\n",
    "molecule with the name \"{molecule.name}_compare.gro\". In these gro files you\n",
    "will find two molecules with the residue names and ids \"START\", 1 and \"END\", 2\n",
    "for the molecules in the initial and final resolution respectively. You can\n",
    "use any external software of molecular visualization to check if the \"END\"\n",
    "molecule correctly overlaps the \"START\" one. "
   ]
  },
  {
   "cell_type": "code",
   "execution_count": 9,
   "metadata": {},
   "outputs": [],
   "source": [
    "for align in manager.molecule_correspondence.values():\n",
    "    align.write_comparative_gro()"
   ]
  },
  {
   "cell_type": "code",
   "execution_count": 10,
   "metadata": {},
   "outputs": [
    {
     "data": {
      "application/vnd.jupyter.widget-view+json": {
       "model_id": "36fb648039854839bded1e6b19128926",
       "version_major": 2,
       "version_minor": 0
      },
      "text/plain": [
       "VBox(children=(Label(value='BMIM'), NGLWidget(), Label(value='BF4'), NGLWidget()))"
      ]
     },
     "metadata": {},
     "output_type": "display_data"
    }
   ],
   "source": [
    "compare_alignment(manager, radius=2.5)"
   ]
  }
 ],
 "metadata": {
  "kernelspec": {
   "display_name": "Python 3",
   "language": "python",
   "name": "python3"
  },
  "language_info": {
   "codemirror_mode": {
    "name": "ipython",
    "version": 3
   },
   "file_extension": ".py",
   "mimetype": "text/x-python",
   "name": "python",
   "nbconvert_exporter": "python",
   "pygments_lexer": "ipython3",
   "version": "3.7.7"
  },
  "widgets": {
   "application/vnd.jupyter.widget-state+json": {
    "state": {
     "025ab68c52a548c187dc4ffa25813a93": {
      "model_module": "@jupyter-widgets/base",
      "model_module_version": "1.1.0",
      "model_name": "LayoutModel",
      "state": {}
     },
     "04ac9ef62fe047beb87792d225356a9f": {
      "model_module": "@jupyter-widgets/controls",
      "model_module_version": "1.4.0",
      "model_name": "ImageModel",
      "state": {
       "layout": "IPY_MODEL_689eb049d67a45dc868bb232a3ea52c4",
       "width": "900.0"
      }
     },
     "0667fc25976a4f7ba0dc83088cdde93a": {
      "model_module": "nglview-js-widgets",
      "model_module_version": "2.7.5",
      "model_name": "NGLModel",
      "state": {
       "_camera_orientation": [
        29.24544464485836,
        0,
        0,
        0,
        0,
        29.24544464485836,
        0,
        0,
        0,
        0,
        29.24544464485836,
        0,
        0,
        0,
        0,
        1
       ],
       "_camera_str": "orthographic",
       "_gui_theme": null,
       "_ibtn_fullscreen": "IPY_MODEL_1d4784cb5faa4bc7aff065114a687266",
       "_igui": null,
       "_iplayer": "IPY_MODEL_a7b474067cac4c9bb1fc6469a1e6fed0",
       "_ngl_color_dict": {},
       "_ngl_coordinate_resource": {},
       "_ngl_full_stage_parameters": {
        "ambientColor": 14540253,
        "ambientIntensity": 0.2,
        "backgroundColor": "white",
        "cameraEyeSep": 0.3,
        "cameraFov": 40,
        "cameraType": "perspective",
        "clipDist": 10,
        "clipFar": 100,
        "clipNear": 0,
        "fogFar": 100,
        "fogNear": 50,
        "hoverTimeout": 0,
        "impostor": true,
        "lightColor": 14540253,
        "lightIntensity": 1,
        "mousePreset": "default",
        "panSpeed": 1,
        "quality": "medium",
        "rotateSpeed": 2,
        "sampleLevel": 0,
        "tooltip": true,
        "workerDefault": true,
        "zoomSpeed": 1.2
       },
       "_ngl_msg_archive": [
        {
         "args": [
          {
           "binary": false,
           "data": "Generated for using with GADDLE Maps\n 1\n    1BF4    Q01    1  -0.000   0.000   0.000 -0.1412 -0.0212 -0.03160.0 0.0 0.0\n",
           "type": "blob"
          }
         ],
         "kwargs": {
          "defaultRepresentation": false,
          "ext": "gro"
         },
         "methodName": "loadFile",
         "reconstruc_color_scheme": false,
         "target": "Stage",
         "type": "call_method"
        },
        {
         "args": [],
         "component_index": 0,
         "kwargs": {},
         "methodName": "removeAllRepresentations",
         "reconstruc_color_scheme": false,
         "target": "compList",
         "type": "call_method"
        },
        {
         "args": [
          "licorice"
         ],
         "component_index": 0,
         "kwargs": {
          "opacity": 0.3,
          "radius": 2.5,
          "sele": "all"
         },
         "methodName": "addRepresentation",
         "reconstruc_color_scheme": false,
         "target": "compList",
         "type": "call_method"
        },
        {
         "args": [
          {
           "binary": false,
           "data": "Generated for using with GADDLE Maps\n 5\n    1BF4     B1    1  -0.000   0.000  -0.000\n    1BF4     F2    2  -0.116  -0.067  -0.047\n    1BF4     F3    3   0.116  -0.067  -0.047\n    1BF4     F4    4  -0.000   0.134  -0.047\n    1BF4     F5    5  -0.000   0.000   0.1420.0 0.0 0.0\n",
           "type": "blob"
          }
         ],
         "kwargs": {
          "defaultRepresentation": false,
          "ext": "gro"
         },
         "methodName": "loadFile",
         "reconstruc_color_scheme": false,
         "target": "Stage",
         "type": "call_method"
        },
        {
         "args": [],
         "component_index": 1,
         "kwargs": {},
         "methodName": "removeAllRepresentations",
         "reconstruc_color_scheme": false,
         "target": "compList",
         "type": "call_method"
        },
        {
         "args": [
          "licorice"
         ],
         "component_index": 1,
         "kwargs": {
          "sele": "all"
         },
         "methodName": "addRepresentation",
         "reconstruc_color_scheme": false,
         "target": "compList",
         "type": "call_method"
        }
       ],
       "_ngl_original_stage_parameters": {
        "ambientColor": 14540253,
        "ambientIntensity": 0.2,
        "backgroundColor": "white",
        "cameraEyeSep": 0.3,
        "cameraFov": 40,
        "cameraType": "perspective",
        "clipDist": 10,
        "clipFar": 100,
        "clipNear": 0,
        "fogFar": 100,
        "fogNear": 50,
        "hoverTimeout": 0,
        "impostor": true,
        "lightColor": 14540253,
        "lightIntensity": 1,
        "mousePreset": "default",
        "panSpeed": 1,
        "quality": "medium",
        "rotateSpeed": 2,
        "sampleLevel": 0,
        "tooltip": true,
        "workerDefault": true,
        "zoomSpeed": 1.2
       },
       "_ngl_repr_dict": {
        "0": {
         "0": {
          "params": {
           "assembly": "default",
           "bondScale": 0.4,
           "bondSpacing": 1,
           "clipCenter": {
            "x": 0,
            "y": 0,
            "z": 0
           },
           "clipNear": 0,
           "clipRadius": 0,
           "colorMode": "hcl",
           "colorReverse": false,
           "colorScale": "",
           "colorScheme": "element",
           "colorValue": 9474192,
           "cylinderOnly": false,
           "defaultAssembly": "",
           "depthWrite": true,
           "diffuse": 16777215,
           "diffuseInterior": false,
           "disableImpostor": false,
           "disablePicking": false,
           "flatShaded": false,
           "interiorColor": 2236962,
           "interiorDarkening": 0,
           "lazy": false,
           "lineOnly": false,
           "linewidth": 2,
           "matrix": {
            "elements": [
             1,
             0,
             0,
             0,
             0,
             1,
             0,
             0,
             0,
             0,
             1,
             0,
             0,
             0,
             0,
             1
            ]
           },
           "metalness": 0,
           "multipleBond": "off",
           "opacity": 0.3,
           "openEnded": true,
           "quality": "medium",
           "radialSegments": 10,
           "radiusData": {},
           "radiusScale": 1,
           "radiusSize": 2.5,
           "radiusType": "size",
           "roughness": 0.4,
           "sele": "all",
           "side": "double",
           "sphereDetail": 1,
           "useInteriorColor": true,
           "useWorker": true,
           "visible": true,
           "wireframe": false
          },
          "type": "licorice"
         }
        },
        "1": {
         "0": {
          "params": {
           "assembly": "default",
           "bondScale": 0.4,
           "bondSpacing": 1,
           "clipCenter": {
            "x": 0,
            "y": 0,
            "z": 0
           },
           "clipNear": 0,
           "clipRadius": 0,
           "colorMode": "hcl",
           "colorReverse": false,
           "colorScale": "",
           "colorScheme": "element",
           "colorValue": 9474192,
           "cylinderOnly": false,
           "defaultAssembly": "",
           "depthWrite": true,
           "diffuse": 16777215,
           "diffuseInterior": false,
           "disableImpostor": false,
           "disablePicking": false,
           "flatShaded": false,
           "interiorColor": 2236962,
           "interiorDarkening": 0,
           "lazy": false,
           "lineOnly": false,
           "linewidth": 2,
           "matrix": {
            "elements": [
             1,
             0,
             0,
             0,
             0,
             1,
             0,
             0,
             0,
             0,
             1,
             0,
             0,
             0,
             0,
             1
            ]
           },
           "metalness": 0,
           "multipleBond": "off",
           "opacity": 1,
           "openEnded": true,
           "quality": "medium",
           "radialSegments": 10,
           "radiusData": {},
           "radiusScale": 1,
           "radiusSize": 0.15,
           "radiusType": "size",
           "roughness": 0.4,
           "sele": "all",
           "side": "double",
           "sphereDetail": 1,
           "useInteriorColor": true,
           "useWorker": true,
           "visible": true,
           "wireframe": false
          },
          "type": "licorice"
         }
        }
       },
       "_ngl_serialize": false,
       "_ngl_version": "2.0.0-dev.36",
       "_ngl_view_id": [
        "DA48FCBE-02FE-4319-B598-6F1C2B788D80",
        "F557152F-4983-4E98-89FB-521EF14E8832"
       ],
       "_player_dict": {},
       "_scene_position": {},
       "_scene_rotation": {},
       "_synced_model_ids": [],
       "_synced_repr_model_ids": [],
       "_view_height": "",
       "_view_width": "",
       "background": "white",
       "frame": 0,
       "gui_style": null,
       "layout": "IPY_MODEL_fc5914ef836e4728b5163d968b666efb",
       "max_frame": 0,
       "n_components": 2,
       "picked": {}
      }
     },
     "086b1cd1651147a181f0779b4482d3fb": {
      "model_module": "@jupyter-widgets/base",
      "model_module_version": "1.1.0",
      "model_name": "LayoutModel",
      "state": {}
     },
     "09377ee54ae5436eaab88f007be8c7e6": {
      "model_module": "@jupyter-widgets/controls",
      "model_module_version": "1.4.0",
      "model_name": "LinkModel",
      "state": {
       "source": [
        "IPY_MODEL_a0b28a5c024c4106ac9a3407abc6130d",
        "max"
       ],
       "target": [
        "IPY_MODEL_bc9f5c23874f40358a9304dc665481f4",
        "max_frame"
       ]
      }
     },
     "09b840b2e18d4b15aab707c706eb9061": {
      "model_module": "@jupyter-widgets/controls",
      "model_module_version": "1.4.0",
      "model_name": "VBoxModel",
      "state": {
       "children": [
        "IPY_MODEL_91763aa1830544b496b921847073cbf3",
        "IPY_MODEL_277196def61d4524a9e3da258e69a517",
        "IPY_MODEL_b0304728b1d044d8a43d28e4ceee0eb3",
        "IPY_MODEL_4c747a7d19c24834b4f989a11902b93c",
        "IPY_MODEL_1cc342b358ac4f29b3f028365be5b0e5",
        "IPY_MODEL_4875272e41ce4e1d8532b18233cda358",
        "IPY_MODEL_d2e9243378e443aa9658457cae7445e9"
       ],
       "layout": "IPY_MODEL_a12467265baa4a948469749bc41e2084"
      }
     },
     "0ab34c4f41d44b80b4bcb31758851e2f": {
      "model_module": "@jupyter-widgets/base",
      "model_module_version": "1.1.0",
      "model_name": "LayoutModel",
      "state": {}
     },
     "0cc0348fd85d4d21bc6d63d1e604debc": {
      "model_module": "@jupyter-widgets/controls",
      "model_module_version": "1.4.0",
      "model_name": "LinkModel",
      "state": {
       "source": [
        "IPY_MODEL_9fc1756fa0944c9581e31785c8306382",
        "max"
       ],
       "target": [
        "IPY_MODEL_1cc342b358ac4f29b3f028365be5b0e5",
        "max_frame"
       ]
      }
     },
     "0e1f2f3525d84e28af8d385329c65852": {
      "model_module": "@jupyter-widgets/base",
      "model_module_version": "1.1.0",
      "model_name": "LayoutModel",
      "state": {}
     },
     "12590073060f4ed1af7ba626c436d634": {
      "model_module": "@jupyter-widgets/base",
      "model_module_version": "1.1.0",
      "model_name": "LayoutModel",
      "state": {}
     },
     "141031fb091a451b9156ee98aeade7b9": {
      "model_module": "@jupyter-widgets/base",
      "model_module_version": "1.1.0",
      "model_name": "LayoutModel",
      "state": {}
     },
     "1706a32f9e0e4e4b9a31ae29fbec5ddc": {
      "model_module": "@jupyter-widgets/controls",
      "model_module_version": "1.4.0",
      "model_name": "LinkModel",
      "state": {
       "source": [
        "IPY_MODEL_736a2c3415b84dada7473b549166ccf3",
        "max"
       ],
       "target": [
        "IPY_MODEL_957943b464a5442e9c04f6b557adb63a",
        "max_frame"
       ]
      }
     },
     "1731867cf25f46bc9e2e93711241d612": {
      "model_module": "@jupyter-widgets/controls",
      "model_module_version": "1.4.0",
      "model_name": "SliderStyleModel",
      "state": {
       "description_width": ""
      }
     },
     "1a4d89c94d5c4dce824e2f8942ee4ee0": {
      "model_module": "@jupyter-widgets/base",
      "model_module_version": "1.1.0",
      "model_name": "LayoutModel",
      "state": {}
     },
     "1ade32c7a1744f23a43f920e9af214bf": {
      "model_module": "@jupyter-widgets/controls",
      "model_module_version": "1.4.0",
      "model_name": "LinkModel",
      "state": {
       "source": [
        "IPY_MODEL_94c81cd193d84f27aec768cad1a51fbd",
        "value"
       ],
       "target": [
        "IPY_MODEL_b0304728b1d044d8a43d28e4ceee0eb3",
        "frame"
       ]
      }
     },
     "1b1811cd09c5438ea812ed64472fe3ae": {
      "model_module": "@jupyter-widgets/controls",
      "model_module_version": "1.4.0",
      "model_name": "LinkModel",
      "state": {
       "source": [
        "IPY_MODEL_915edad6b06d4b4c910c5334fced5d63",
        "max"
       ],
       "target": [
        "IPY_MODEL_1cc342b358ac4f29b3f028365be5b0e5",
        "max_frame"
       ]
      }
     },
     "1b4df500aff24168accb91f352a3f05c": {
      "model_module": "@jupyter-widgets/controls",
      "model_module_version": "1.4.0",
      "model_name": "DescriptionStyleModel",
      "state": {
       "description_width": ""
      }
     },
     "1cc342b358ac4f29b3f028365be5b0e5": {
      "model_module": "nglview-js-widgets",
      "model_module_version": "2.7.5",
      "model_name": "NGLModel",
      "state": {
       "_camera_orientation": [
        25.573355040497567,
        0,
        0,
        0,
        0,
        25.573355040497567,
        0,
        0,
        0,
        0,
        25.573355040497567,
        0,
        -4.555000066757202,
        0.3050000071525574,
        -0.38999998569488525,
        1
       ],
       "_camera_str": "orthographic",
       "_gui_theme": null,
       "_ibtn_fullscreen": "IPY_MODEL_a78ba4295d2c4b7e9ae56fd63c49cde7",
       "_igui": null,
       "_iplayer": "IPY_MODEL_820e2dd085ee4ac283fac97962e0b031",
       "_ngl_color_dict": {},
       "_ngl_coordinate_resource": {},
       "_ngl_full_stage_parameters": {
        "ambientColor": 14540253,
        "ambientIntensity": 0.2,
        "backgroundColor": "white",
        "cameraEyeSep": 0.3,
        "cameraFov": 40,
        "cameraType": "perspective",
        "clipDist": 10,
        "clipFar": 100,
        "clipNear": 0,
        "fogFar": 100,
        "fogNear": 50,
        "hoverTimeout": 0,
        "impostor": true,
        "lightColor": 14540253,
        "lightIntensity": 1,
        "mousePreset": "default",
        "panSpeed": 1,
        "quality": "medium",
        "rotateSpeed": 2,
        "sampleLevel": 0,
        "tooltip": true,
        "workerDefault": true,
        "zoomSpeed": 1.2
       },
       "_ngl_msg_archive": [
        {
         "args": [
          {
           "binary": false,
           "data": "Generated for using with GADDLE Maps\n 25\n    1BMIM    N1    1  -0.292   0.022   0.017\n    1BMIM    C2    2  -0.179   0.110  -0.004\n    1BMIM    N3    3  -0.078   0.018  -0.052\n    1BMIM    C4    4  -0.130  -0.113  -0.060\n    1BMIM    C5    5  -0.259  -0.110  -0.019\n    1BMIM    H6    6  -0.147   0.155   0.093\n    1BMIM    H7    7  -0.076  -0.200  -0.094\n    1BMIM    H8    8  -0.326  -0.195  -0.014\n    1BMIM    C9    9  -0.421   0.063   0.066\n    1BMIM   C10   10   0.057   0.056  -0.088\n    1BMIM   C11   11   0.159  -0.016   0.001\n    1BMIM   C12   12   0.303   0.025  -0.035\n    1BMIM   C13   13   0.404  -0.046   0.053\n    1BMIM   H14   14  -0.422   0.172   0.087\n    1BMIM   H15   15  -0.444   0.009   0.160\n    1BMIM   H16   16  -0.500   0.040  -0.009\n    1BMIM   H17   17   0.075   0.030  -0.195\n    1BMIM   H18   18   0.070   0.165  -0.076\n    1BMIM   H19   19   0.139   0.010   0.107\n    1BMIM   H20   20   0.149  -0.126  -0.011\n    1BMIM   H21   21   0.315   0.135  -0.023\n    1BMIM   H22   22   0.323  -0.002  -0.141\n    1BMIM   H23   23   0.507  -0.015   0.025\n    1BMIM   H24   24   0.388  -0.020   0.160\n    1BMIM   H25   25   0.396  -0.156   0.0410.0 0.0 0.0\n",
           "type": "blob"
          }
         ],
         "kwargs": {
          "defaultRepresentation": false,
          "ext": "gro"
         },
         "methodName": "loadFile",
         "reconstruc_color_scheme": false,
         "target": "Stage",
         "type": "call_method"
        },
        {
         "args": [],
         "component_index": 0,
         "kwargs": {},
         "methodName": "removeAllRepresentations",
         "reconstruc_color_scheme": false,
         "target": "compList",
         "type": "call_method"
        },
        {
         "args": [
          "licorice"
         ],
         "component_index": 0,
         "kwargs": {
          "sele": "all"
         },
         "methodName": "addRepresentation",
         "reconstruc_color_scheme": false,
         "target": "compList",
         "type": "call_method"
        },
        {
         "args": [
          "licorice"
         ],
         "component_index": 0,
         "kwargs": {
          "color": "red",
          "opacity": 0.75,
          "radius": 1,
          "sele": "@12"
         },
         "methodName": "addRepresentation",
         "reconstruc_color_scheme": false,
         "target": "compList",
         "type": "call_method"
        },
        {
         "args": [
          "licorice"
         ],
         "component_index": 0,
         "kwargs": {
          "sele": "all"
         },
         "methodName": "addRepresentation",
         "reconstruc_color_scheme": false,
         "target": "compList",
         "type": "call_method"
        }
       ],
       "_ngl_original_stage_parameters": {
        "ambientColor": 14540253,
        "ambientIntensity": 0.2,
        "backgroundColor": "white",
        "cameraEyeSep": 0.3,
        "cameraFov": 40,
        "cameraType": "perspective",
        "clipDist": 10,
        "clipFar": 100,
        "clipNear": 0,
        "fogFar": 100,
        "fogNear": 50,
        "hoverTimeout": 0,
        "impostor": true,
        "lightColor": 14540253,
        "lightIntensity": 1,
        "mousePreset": "default",
        "panSpeed": 1,
        "quality": "medium",
        "rotateSpeed": 2,
        "sampleLevel": 0,
        "tooltip": true,
        "workerDefault": true,
        "zoomSpeed": 1.2
       },
       "_ngl_repr_dict": {
        "0": {
         "0": {
          "params": {
           "assembly": "default",
           "bondScale": 0.4,
           "bondSpacing": 1,
           "clipCenter": {
            "x": 0,
            "y": 0,
            "z": 0
           },
           "clipNear": 0,
           "clipRadius": 0,
           "colorMode": "hcl",
           "colorReverse": false,
           "colorScale": "",
           "colorScheme": "element",
           "colorValue": 9474192,
           "cylinderOnly": false,
           "defaultAssembly": "",
           "depthWrite": true,
           "diffuse": 16777215,
           "diffuseInterior": false,
           "disableImpostor": false,
           "disablePicking": false,
           "flatShaded": false,
           "interiorColor": 2236962,
           "interiorDarkening": 0,
           "lazy": false,
           "lineOnly": false,
           "linewidth": 2,
           "matrix": {
            "elements": [
             1,
             0,
             0,
             0,
             0,
             1,
             0,
             0,
             0,
             0,
             1,
             0,
             0,
             0,
             0,
             1
            ]
           },
           "metalness": 0,
           "multipleBond": "off",
           "opacity": 1,
           "openEnded": true,
           "quality": "medium",
           "radialSegments": 10,
           "radiusData": {},
           "radiusScale": 1,
           "radiusSize": 0.15,
           "radiusType": "size",
           "roughness": 0.4,
           "sele": "all",
           "side": "double",
           "sphereDetail": 1,
           "useInteriorColor": true,
           "useWorker": true,
           "visible": true,
           "wireframe": false
          },
          "type": "licorice"
         },
         "1": {
          "params": {
           "assembly": "default",
           "bondScale": 0.4,
           "bondSpacing": 1,
           "clipCenter": {
            "x": 0,
            "y": 0,
            "z": 0
           },
           "clipNear": 0,
           "clipRadius": 0,
           "colorMode": "hcl",
           "colorReverse": false,
           "colorScale": "",
           "colorScheme": "uniform",
           "colorValue": 16711680,
           "cylinderOnly": false,
           "defaultAssembly": "",
           "depthWrite": true,
           "diffuse": 16777215,
           "diffuseInterior": false,
           "disableImpostor": false,
           "disablePicking": false,
           "flatShaded": false,
           "interiorColor": 2236962,
           "interiorDarkening": 0,
           "lazy": false,
           "lineOnly": false,
           "linewidth": 2,
           "matrix": {
            "elements": [
             1,
             0,
             0,
             0,
             0,
             1,
             0,
             0,
             0,
             0,
             1,
             0,
             0,
             0,
             0,
             1
            ]
           },
           "metalness": 0,
           "multipleBond": "off",
           "opacity": 0.75,
           "openEnded": true,
           "quality": "medium",
           "radialSegments": 10,
           "radiusData": {},
           "radiusScale": 1,
           "radiusSize": 1,
           "radiusType": "size",
           "roughness": 0.4,
           "sele": "@12",
           "side": "double",
           "sphereDetail": 1,
           "useInteriorColor": true,
           "useWorker": true,
           "visible": true,
           "wireframe": false
          },
          "type": "licorice"
         },
         "2": {
          "params": {
           "assembly": "default",
           "bondScale": 0.4,
           "bondSpacing": 1,
           "clipCenter": {
            "x": 0,
            "y": 0,
            "z": 0
           },
           "clipNear": 0,
           "clipRadius": 0,
           "colorMode": "hcl",
           "colorReverse": false,
           "colorScale": "",
           "colorScheme": "element",
           "colorValue": 9474192,
           "cylinderOnly": false,
           "defaultAssembly": "",
           "depthWrite": true,
           "diffuse": 16777215,
           "diffuseInterior": false,
           "disableImpostor": false,
           "disablePicking": false,
           "flatShaded": false,
           "interiorColor": 2236962,
           "interiorDarkening": 0,
           "lazy": false,
           "lineOnly": false,
           "linewidth": 2,
           "matrix": {
            "elements": [
             1,
             0,
             0,
             0,
             0,
             1,
             0,
             0,
             0,
             0,
             1,
             0,
             0,
             0,
             0,
             1
            ]
           },
           "metalness": 0,
           "multipleBond": "off",
           "opacity": 1,
           "openEnded": true,
           "quality": "medium",
           "radialSegments": 10,
           "radiusData": {},
           "radiusScale": 1,
           "radiusSize": 0.15,
           "radiusType": "size",
           "roughness": 0.4,
           "sele": "all",
           "side": "double",
           "sphereDetail": 1,
           "useInteriorColor": true,
           "useWorker": true,
           "visible": true,
           "wireframe": false
          },
          "type": "licorice"
         }
        }
       },
       "_ngl_serialize": false,
       "_ngl_version": "2.0.0-dev.36",
       "_ngl_view_id": [
        "00BC8783-9297-4286-A985-391AB834EEA3",
        "35C5C623-D27F-4D78-9F55-ABB9E09D6E14"
       ],
       "_player_dict": {},
       "_scene_position": {},
       "_scene_rotation": {},
       "_synced_model_ids": [],
       "_synced_repr_model_ids": [],
       "_view_height": "",
       "_view_width": "",
       "background": "white",
       "frame": 0,
       "gui_style": null,
       "layout": "IPY_MODEL_d80ac10bdba647eeb04f40f12aec14fe",
       "max_frame": 0,
       "n_components": 1,
       "picked": {
        "atom1": {
         "altloc": "",
         "atomname": "C13",
         "bfactor": 0,
         "chainname": "A",
         "covalent": 0.76,
         "element": "C",
         "hetero": 0,
         "index": 12,
         "modelIndex": 0,
         "name": "[BMIM]1:A.C13",
         "residueIndex": 0,
         "resname": "BMIM",
         "resno": 1,
         "serial": 13,
         "vdw": 1.7,
         "x": 4.039999961853027,
         "y": -0.46000000834465027,
         "z": 0.5299999713897705
        },
        "atom2": {
         "altloc": "",
         "atomname": "H23",
         "bfactor": 0,
         "chainname": "A",
         "covalent": 0.31,
         "element": "H",
         "hetero": 0,
         "index": 22,
         "modelIndex": 0,
         "name": "[BMIM]1:A.H23",
         "residueIndex": 0,
         "resname": "BMIM",
         "resno": 1,
         "serial": 23,
         "vdw": 1.1,
         "x": 5.070000171661377,
         "y": -0.15000000596046448,
         "z": 0.25
        },
        "bond": {
         "atomIndex1": 12,
         "atomIndex2": 22,
         "bondOrder": 1
        },
        "component": 0
       }
      }
     },
     "1d4784cb5faa4bc7aff065114a687266": {
      "model_module": "@jupyter-widgets/controls",
      "model_module_version": "1.4.0",
      "model_name": "ButtonModel",
      "state": {
       "icon": "compress",
       "layout": "IPY_MODEL_d5a0b46c0e574d71af38595f3181bf41",
       "style": "IPY_MODEL_6dd865e6fcfa4eb198d654843d260d3c"
      }
     },
     "1e3ff986dc124785969b8bee3eb57950": {
      "model_module": "@jupyter-widgets/controls",
      "model_module_version": "1.4.0",
      "model_name": "HBoxModel",
      "state": {
       "children": [
        "IPY_MODEL_351614321d6543b1bf86a866e4ab86ac",
        "IPY_MODEL_ddd44409123f495b85a619ebde4fb97d"
       ],
       "layout": "IPY_MODEL_463d96c74211494dafe857959c6900fd"
      }
     },
     "1f0142059e9a446ba37b455aa799c7df": {
      "model_module": "@jupyter-widgets/controls",
      "model_module_version": "1.4.0",
      "model_name": "ButtonModel",
      "state": {
       "icon": "compress",
       "layout": "IPY_MODEL_d90ac59f182c4c66b78bb147216b5d9b",
       "style": "IPY_MODEL_78f4997f803247a3bd511a8d5b0cc7ae"
      }
     },
     "1f067377679b48339ae22e84cefaa2aa": {
      "model_module": "@jupyter-widgets/controls",
      "model_module_version": "1.4.0",
      "model_name": "LinkModel",
      "state": {
       "source": [
        "IPY_MODEL_9326c44900c9451ca5a1be959f05a495",
        "value"
       ],
       "target": [
        "IPY_MODEL_e1758e9338204a3b85d8098242339c62",
        "value"
       ]
      }
     },
     "1f60a92d51324ed998d1eaee6db4f073": {
      "model_module": "@jupyter-widgets/base",
      "model_module_version": "1.1.0",
      "model_name": "LayoutModel",
      "state": {}
     },
     "212fdeb318d44cc68fc132d9e2d2aaf9": {
      "model_module": "@jupyter-widgets/base",
      "model_module_version": "1.1.0",
      "model_name": "LayoutModel",
      "state": {
       "width": "34px"
      }
     },
     "21463e70cef64ccbae1f056717755e63": {
      "model_module": "@jupyter-widgets/base",
      "model_module_version": "1.1.0",
      "model_name": "LayoutModel",
      "state": {}
     },
     "21dcd0b71ad9475f823777956f4c20ad": {
      "model_module": "@jupyter-widgets/controls",
      "model_module_version": "1.4.0",
      "model_name": "LinkModel",
      "state": {
       "source": [
        "IPY_MODEL_915edad6b06d4b4c910c5334fced5d63",
        "value"
       ],
       "target": [
        "IPY_MODEL_1cc342b358ac4f29b3f028365be5b0e5",
        "frame"
       ]
      }
     },
     "21dd171de1e14691bd172aaaf4b3d3c7": {
      "model_module": "@jupyter-widgets/controls",
      "model_module_version": "1.4.0",
      "model_name": "IntSliderModel",
      "state": {
       "layout": "IPY_MODEL_12590073060f4ed1af7ba626c436d634",
       "max": 0,
       "style": "IPY_MODEL_f7f06ebbf02144ec913c0d9e4edd0907"
      }
     },
     "225ce14fea8d42a99070f6445f13e13d": {
      "model_module": "@jupyter-widgets/controls",
      "model_module_version": "1.4.0",
      "model_name": "PlayModel",
      "state": {
       "layout": "IPY_MODEL_32859b1bff574d19942687815853d9a8",
       "max": 0,
       "style": "IPY_MODEL_f1d9e2e70dd741b1b25eaa6aab875560"
      }
     },
     "23feeadfb0174a3e9259cd93925d7ec9": {
      "model_module": "@jupyter-widgets/base",
      "model_module_version": "1.1.0",
      "model_name": "LayoutModel",
      "state": {}
     },
     "25e367f21d7241b9af7ee9d6e1b1dbae": {
      "model_module": "@jupyter-widgets/base",
      "model_module_version": "1.1.0",
      "model_name": "LayoutModel",
      "state": {}
     },
     "277196def61d4524a9e3da258e69a517": {
      "model_module": "@jupyter-widgets/controls",
      "model_module_version": "1.4.0",
      "model_name": "LabelModel",
      "state": {
       "layout": "IPY_MODEL_fa70d453b8fb48eabf04746c1b3c8e3f",
       "style": "IPY_MODEL_7c92407801c14a73ac40550ff045f241",
       "value": "Low Resolution"
      }
     },
     "27e35822f1e44ea28f1a9a1582957394": {
      "model_module": "@jupyter-widgets/base",
      "model_module_version": "1.1.0",
      "model_name": "LayoutModel",
      "state": {}
     },
     "2b18a8b5af454d6d84979e6d428864a5": {
      "model_module": "@jupyter-widgets/controls",
      "model_module_version": "1.4.0",
      "model_name": "ButtonStyleModel",
      "state": {}
     },
     "2c356bcf06974361a76c4c1df723188d": {
      "model_module": "@jupyter-widgets/controls",
      "model_module_version": "1.4.0",
      "model_name": "LabelModel",
      "state": {
       "layout": "IPY_MODEL_5895b9c6b5e0411abc33214e8e28a978",
       "style": "IPY_MODEL_65242cdaa71d4039813c5da760c2fe9e",
       "value": "BMIM"
      }
     },
     "2ca7188f9e3645658f93d86841e2fb70": {
      "model_module": "@jupyter-widgets/controls",
      "model_module_version": "1.4.0",
      "model_name": "ButtonStyleModel",
      "state": {}
     },
     "32859b1bff574d19942687815853d9a8": {
      "model_module": "@jupyter-widgets/base",
      "model_module_version": "1.1.0",
      "model_name": "LayoutModel",
      "state": {}
     },
     "333972c6b1594bad97f0d95d053984a6": {
      "model_module": "@jupyter-widgets/base",
      "model_module_version": "1.1.0",
      "model_name": "LayoutModel",
      "state": {}
     },
     "3348f94556f642978f6028c9cf058cd0": {
      "model_module": "@jupyter-widgets/controls",
      "model_module_version": "1.4.0",
      "model_name": "SliderStyleModel",
      "state": {
       "description_width": ""
      }
     },
     "351614321d6543b1bf86a866e4ab86ac": {
      "model_module": "@jupyter-widgets/controls",
      "model_module_version": "1.4.0",
      "model_name": "LabelModel",
      "state": {
       "layout": "IPY_MODEL_ca423e718a924dcbae09d4ca4d37c94f",
       "style": "IPY_MODEL_42cb1a9f80dc4daa9f37708ef5bf150b",
       "value": "Restrictions ="
      }
     },
     "38a4509c2dc14caa91931822d2f4d85d": {
      "model_module": "@jupyter-widgets/base",
      "model_module_version": "1.1.0",
      "model_name": "LayoutModel",
      "state": {}
     },
     "39a82563ec0f4c75b2c8e40a35defde7": {
      "model_module": "@jupyter-widgets/controls",
      "model_module_version": "1.4.0",
      "model_name": "ButtonStyleModel",
      "state": {}
     },
     "3ca8efc88739404a91c5f25d7430c453": {
      "model_module": "@jupyter-widgets/controls",
      "model_module_version": "1.4.0",
      "model_name": "HBoxModel",
      "state": {
       "children": [
        "IPY_MODEL_fb098a23fee0424b9cfe01ac2bba74ea",
        "IPY_MODEL_9dfb188bd8614c0da88410319e15a827"
       ],
       "layout": "IPY_MODEL_5b9f2c34ef14487f8dbe2183c17af278"
      }
     },
     "3f64820712b447b39e80e517ee8f8228": {
      "model_module": "@jupyter-widgets/controls",
      "model_module_version": "1.4.0",
      "model_name": "ImageModel",
      "state": {
       "layout": "IPY_MODEL_bdfc135013c048aba72e5564c46b92ee",
       "width": "900.0"
      }
     },
     "3f9c0d7cc5644d8dba8137d2d016dad6": {
      "model_module": "@jupyter-widgets/controls",
      "model_module_version": "1.4.0",
      "model_name": "LinkModel",
      "state": {
       "source": [
        "IPY_MODEL_c954bc964e1745e88d6e55ddf6cb5d52",
        "value"
       ],
       "target": [
        "IPY_MODEL_c24a524579bc433faad17b3c65d9c06f",
        "frame"
       ]
      }
     },
     "402ddc2965294e00bc7168ca231fdd04": {
      "model_module": "@jupyter-widgets/controls",
      "model_module_version": "1.4.0",
      "model_name": "ButtonStyleModel",
      "state": {}
     },
     "42cb1a9f80dc4daa9f37708ef5bf150b": {
      "model_module": "@jupyter-widgets/controls",
      "model_module_version": "1.4.0",
      "model_name": "DescriptionStyleModel",
      "state": {
       "description_width": ""
      }
     },
     "458a1559ea5d4182aae78e1f0e456e9d": {
      "model_module": "@jupyter-widgets/controls",
      "model_module_version": "1.4.0",
      "model_name": "LinkModel",
      "state": {
       "source": [
        "IPY_MODEL_225ce14fea8d42a99070f6445f13e13d",
        "value"
       ],
       "target": [
        "IPY_MODEL_957943b464a5442e9c04f6b557adb63a",
        "frame"
       ]
      }
     },
     "45b79650dced489e8c3db96cfe371ce5": {
      "model_module": "@jupyter-widgets/controls",
      "model_module_version": "1.4.0",
      "model_name": "LabelModel",
      "state": {
       "layout": "IPY_MODEL_333972c6b1594bad97f0d95d053984a6",
       "style": "IPY_MODEL_f121604503db493092970e819c5fe943",
       "value": "High Resolution"
      }
     },
     "463d96c74211494dafe857959c6900fd": {
      "model_module": "@jupyter-widgets/base",
      "model_module_version": "1.1.0",
      "model_name": "LayoutModel",
      "state": {}
     },
     "473903c7545e4efc9e58f99340c3f3c5": {
      "model_module": "@jupyter-widgets/controls",
      "model_module_version": "1.4.0",
      "model_name": "ButtonModel",
      "state": {
       "icon": "compress",
       "layout": "IPY_MODEL_212fdeb318d44cc68fc132d9e2d2aaf9",
       "style": "IPY_MODEL_821a6e03bca64b0c9e9f3ac5676ded60"
      }
     },
     "481cd8c711cb4e2dae429fb7534df56f": {
      "model_module": "@jupyter-widgets/controls",
      "model_module_version": "1.4.0",
      "model_name": "DescriptionStyleModel",
      "state": {
       "description_width": ""
      }
     },
     "4875272e41ce4e1d8532b18233cda358": {
      "model_module": "@jupyter-widgets/controls",
      "model_module_version": "1.4.0",
      "model_name": "HBoxModel",
      "state": {
       "children": [
        "IPY_MODEL_a70706ab36b04215b4ce598b3a8a10ac",
        "IPY_MODEL_710c99842ddc486eb574860d37567e9e"
       ],
       "layout": "IPY_MODEL_4e92b28aaa16430890a0f80b319e07a4"
      }
     },
     "4987612de28b4ebdb10dbdae816847a4": {
      "model_module": "@jupyter-widgets/controls",
      "model_module_version": "1.4.0",
      "model_name": "LinkModel",
      "state": {
       "source": [
        "IPY_MODEL_94c81cd193d84f27aec768cad1a51fbd",
        "max"
       ],
       "target": [
        "IPY_MODEL_b0304728b1d044d8a43d28e4ceee0eb3",
        "max_frame"
       ]
      }
     },
     "499aa767debd4a8aa84a9112389976cf": {
      "model_module": "@jupyter-widgets/controls",
      "model_module_version": "1.4.0",
      "model_name": "HBoxModel",
      "state": {
       "children": [
        "IPY_MODEL_c954bc964e1745e88d6e55ddf6cb5d52",
        "IPY_MODEL_21dd171de1e14691bd172aaaf4b3d3c7"
       ],
       "layout": "IPY_MODEL_639497814acc4962861fab408a790213"
      }
     },
     "49fb58f90fc94207b826cbeb8f7fa341": {
      "model_module": "@jupyter-widgets/controls",
      "model_module_version": "1.4.0",
      "model_name": "ImageModel",
      "state": {
       "layout": "IPY_MODEL_5bb43f7386ef487689ae18f1dcd12577",
       "width": "900.0"
      }
     },
     "4a28f8b248fb452c97c70249a9788ff6": {
      "model_module": "@jupyter-widgets/controls",
      "model_module_version": "1.4.0",
      "model_name": "ButtonModel",
      "state": {
       "icon": "compress",
       "layout": "IPY_MODEL_c95d5a79b2314df699a0b0cc2fb9781c",
       "style": "IPY_MODEL_2ca7188f9e3645658f93d86841e2fb70"
      }
     },
     "4c62a871af304e84a13237bc9f985bd9": {
      "model_module": "@jupyter-widgets/controls",
      "model_module_version": "1.4.0",
      "model_name": "DescriptionStyleModel",
      "state": {
       "description_width": ""
      }
     },
     "4c747a7d19c24834b4f989a11902b93c": {
      "model_module": "@jupyter-widgets/controls",
      "model_module_version": "1.4.0",
      "model_name": "LabelModel",
      "state": {
       "layout": "IPY_MODEL_f9c21f7422e24840a0610a84ffff85db",
       "style": "IPY_MODEL_edf16445eb3a44dc8f003e922eb0831c",
       "value": "High Resolution"
      }
     },
     "4cdaed81284d4459af346842d0dd241d": {
      "model_module": "@jupyter-widgets/controls",
      "model_module_version": "1.4.0",
      "model_name": "LinkModel",
      "state": {
       "source": [
        "IPY_MODEL_842264ab5ea34ee99f977facbe5969bf",
        "value"
       ],
       "target": [
        "IPY_MODEL_bc9f5c23874f40358a9304dc665481f4",
        "frame"
       ]
      }
     },
     "4da4530d273b419fa434ccf5a8ccab1d": {
      "model_module": "@jupyter-widgets/controls",
      "model_module_version": "1.4.0",
      "model_name": "SliderStyleModel",
      "state": {
       "description_width": ""
      }
     },
     "4e1ade964ab94e63b1ea0fc408b620f5": {
      "model_module": "@jupyter-widgets/base",
      "model_module_version": "1.1.0",
      "model_name": "LayoutModel",
      "state": {}
     },
     "4e92b28aaa16430890a0f80b319e07a4": {
      "model_module": "@jupyter-widgets/base",
      "model_module_version": "1.1.0",
      "model_name": "LayoutModel",
      "state": {}
     },
     "52e8567db28f4d2a86060b79efd7cc6e": {
      "model_module": "@jupyter-widgets/controls",
      "model_module_version": "1.4.0",
      "model_name": "VBoxModel",
      "state": {
       "children": [
        "IPY_MODEL_09b840b2e18d4b15aab707c706eb9061",
        "IPY_MODEL_56eb982b8f704649833e0ac497b877fc"
       ],
       "layout": "IPY_MODEL_f90cc88d1c87424cb08c0567d8deb006"
      }
     },
     "54da1fe862ac49d98739d2c33c6d9dd7": {
      "model_module": "@jupyter-widgets/base",
      "model_module_version": "1.1.0",
      "model_name": "LayoutModel",
      "state": {}
     },
     "55cb7435bc8e40bd94a23d5dcecaf9d2": {
      "model_module": "@jupyter-widgets/controls",
      "model_module_version": "1.4.0",
      "model_name": "DescriptionStyleModel",
      "state": {
       "description_width": ""
      }
     },
     "564c538146c542b49481bba7beed06ef": {
      "model_module": "@jupyter-widgets/controls",
      "model_module_version": "1.4.0",
      "model_name": "LinkModel",
      "state": {
       "source": [
        "IPY_MODEL_5f0ba2da7e984ffcab212db0fe5e29b8",
        "max"
       ],
       "target": [
        "IPY_MODEL_b0304728b1d044d8a43d28e4ceee0eb3",
        "max_frame"
       ]
      }
     },
     "56eb982b8f704649833e0ac497b877fc": {
      "model_module": "@jupyter-widgets/controls",
      "model_module_version": "1.4.0",
      "model_name": "VBoxModel",
      "state": {
       "children": [
        "IPY_MODEL_9340eccb58b8457885b47ce84f9189ba",
        "IPY_MODEL_66483347b4f5445c8d3a70f84e950d49",
        "IPY_MODEL_bc9f5c23874f40358a9304dc665481f4",
        "IPY_MODEL_45b79650dced489e8c3db96cfe371ce5",
        "IPY_MODEL_957943b464a5442e9c04f6b557adb63a",
        "IPY_MODEL_3ca8efc88739404a91c5f25d7430c453",
        "IPY_MODEL_1e3ff986dc124785969b8bee3eb57950"
       ],
       "layout": "IPY_MODEL_574cd8eda8ce485e9e01d3b4f686b49e"
      }
     },
     "574cd8eda8ce485e9e01d3b4f686b49e": {
      "model_module": "@jupyter-widgets/base",
      "model_module_version": "1.1.0",
      "model_name": "LayoutModel",
      "state": {}
     },
     "5895b9c6b5e0411abc33214e8e28a978": {
      "model_module": "@jupyter-widgets/base",
      "model_module_version": "1.1.0",
      "model_name": "LayoutModel",
      "state": {}
     },
     "5b2149362c6b4ed9bb9ad67f55ab4c9a": {
      "model_module": "@jupyter-widgets/base",
      "model_module_version": "1.1.0",
      "model_name": "LayoutModel",
      "state": {}
     },
     "5b9f2c34ef14487f8dbe2183c17af278": {
      "model_module": "@jupyter-widgets/base",
      "model_module_version": "1.1.0",
      "model_name": "LayoutModel",
      "state": {}
     },
     "5bb43f7386ef487689ae18f1dcd12577": {
      "model_module": "@jupyter-widgets/base",
      "model_module_version": "1.1.0",
      "model_name": "LayoutModel",
      "state": {}
     },
     "5e55dcf9662e431bb2e5b2808267d416": {
      "model_module": "@jupyter-widgets/controls",
      "model_module_version": "1.4.0",
      "model_name": "ButtonStyleModel",
      "state": {}
     },
     "5f0ba2da7e984ffcab212db0fe5e29b8": {
      "model_module": "@jupyter-widgets/controls",
      "model_module_version": "1.4.0",
      "model_name": "IntSliderModel",
      "state": {
       "layout": "IPY_MODEL_b517ddddfe21403eacb54dff50cdf1c2",
       "max": 0,
       "style": "IPY_MODEL_4da4530d273b419fa434ccf5a8ccab1d"
      }
     },
     "61c31e65241b4bb1af47ed6489d38ce4": {
      "model_module": "@jupyter-widgets/base",
      "model_module_version": "1.1.0",
      "model_name": "LayoutModel",
      "state": {}
     },
     "624151881d4c4bc88c45f6fb38b8c98a": {
      "model_module": "@jupyter-widgets/controls",
      "model_module_version": "1.4.0",
      "model_name": "DescriptionStyleModel",
      "state": {
       "description_width": ""
      }
     },
     "639497814acc4962861fab408a790213": {
      "model_module": "@jupyter-widgets/base",
      "model_module_version": "1.1.0",
      "model_name": "LayoutModel",
      "state": {}
     },
     "63c840ebbd0d481eb1619773ddc2a641": {
      "model_module": "@jupyter-widgets/controls",
      "model_module_version": "1.4.0",
      "model_name": "LinkModel",
      "state": {
       "source": [
        "IPY_MODEL_9326c44900c9451ca5a1be959f05a495",
        "value"
       ],
       "target": [
        "IPY_MODEL_0667fc25976a4f7ba0dc83088cdde93a",
        "frame"
       ]
      }
     },
     "65242cdaa71d4039813c5da760c2fe9e": {
      "model_module": "@jupyter-widgets/controls",
      "model_module_version": "1.4.0",
      "model_name": "DescriptionStyleModel",
      "state": {
       "description_width": ""
      }
     },
     "66483347b4f5445c8d3a70f84e950d49": {
      "model_module": "@jupyter-widgets/controls",
      "model_module_version": "1.4.0",
      "model_name": "LabelModel",
      "state": {
       "layout": "IPY_MODEL_27e35822f1e44ea28f1a9a1582957394",
       "style": "IPY_MODEL_4c62a871af304e84a13237bc9f985bd9",
       "value": "Low Resolution"
      }
     },
     "689eb049d67a45dc868bb232a3ea52c4": {
      "model_module": "@jupyter-widgets/base",
      "model_module_version": "1.1.0",
      "model_name": "LayoutModel",
      "state": {}
     },
     "6dd865e6fcfa4eb198d654843d260d3c": {
      "model_module": "@jupyter-widgets/controls",
      "model_module_version": "1.4.0",
      "model_name": "ButtonStyleModel",
      "state": {}
     },
     "710c99842ddc486eb574860d37567e9e": {
      "model_module": "@jupyter-widgets/controls",
      "model_module_version": "1.4.0",
      "model_name": "ButtonModel",
      "state": {
       "description": "Delete restriction",
       "layout": "IPY_MODEL_a1017b32fd764314ba0064a0e54a9e20",
       "style": "IPY_MODEL_8d91b3d551ed4584adddd631b01e778c"
      }
     },
     "736a2c3415b84dada7473b549166ccf3": {
      "model_module": "@jupyter-widgets/controls",
      "model_module_version": "1.4.0",
      "model_name": "IntSliderModel",
      "state": {
       "layout": "IPY_MODEL_086b1cd1651147a181f0779b4482d3fb",
       "max": 0,
       "style": "IPY_MODEL_7888b22e56014fcabd6332c663b2a870"
      }
     },
     "77a4a31a4a204ea8b4032a328b1718ec": {
      "model_module": "@jupyter-widgets/base",
      "model_module_version": "1.1.0",
      "model_name": "LayoutModel",
      "state": {}
     },
     "7888b22e56014fcabd6332c663b2a870": {
      "model_module": "@jupyter-widgets/controls",
      "model_module_version": "1.4.0",
      "model_name": "SliderStyleModel",
      "state": {
       "description_width": ""
      }
     },
     "78f4997f803247a3bd511a8d5b0cc7ae": {
      "model_module": "@jupyter-widgets/controls",
      "model_module_version": "1.4.0",
      "model_name": "ButtonStyleModel",
      "state": {}
     },
     "7adfe954efe648d6bd1ca1ee0b285708": {
      "model_module": "@jupyter-widgets/base",
      "model_module_version": "1.1.0",
      "model_name": "LayoutModel",
      "state": {
       "width": "34px"
      }
     },
     "7c92407801c14a73ac40550ff045f241": {
      "model_module": "@jupyter-widgets/controls",
      "model_module_version": "1.4.0",
      "model_name": "DescriptionStyleModel",
      "state": {
       "description_width": ""
      }
     },
     "7ee75b443fa847628cec717765ab01b8": {
      "model_module": "@jupyter-widgets/base",
      "model_module_version": "1.1.0",
      "model_name": "LayoutModel",
      "state": {}
     },
     "8198833a8862413a8de28d3cfa840cc3": {
      "model_module": "@jupyter-widgets/base",
      "model_module_version": "1.1.0",
      "model_name": "LayoutModel",
      "state": {}
     },
     "820e2dd085ee4ac283fac97962e0b031": {
      "model_module": "@jupyter-widgets/controls",
      "model_module_version": "1.4.0",
      "model_name": "HBoxModel",
      "state": {
       "children": [
        "IPY_MODEL_915edad6b06d4b4c910c5334fced5d63",
        "IPY_MODEL_9fc1756fa0944c9581e31785c8306382"
       ],
       "layout": "IPY_MODEL_98c68f99f63745f5b308e2e3187dd2ba"
      }
     },
     "821a6e03bca64b0c9e9f3ac5676ded60": {
      "model_module": "@jupyter-widgets/controls",
      "model_module_version": "1.4.0",
      "model_name": "ButtonStyleModel",
      "state": {}
     },
     "842264ab5ea34ee99f977facbe5969bf": {
      "model_module": "@jupyter-widgets/controls",
      "model_module_version": "1.4.0",
      "model_name": "PlayModel",
      "state": {
       "layout": "IPY_MODEL_891f96b1dac144429f3572d22c9e8dee",
       "max": 0,
       "style": "IPY_MODEL_d908bba884b94a9f8638794bb0d3efc8"
      }
     },
     "844f67d8fbc84047b21125736d327b25": {
      "model_module": "@jupyter-widgets/controls",
      "model_module_version": "1.4.0",
      "model_name": "HBoxModel",
      "state": {
       "children": [
        "IPY_MODEL_225ce14fea8d42a99070f6445f13e13d",
        "IPY_MODEL_736a2c3415b84dada7473b549166ccf3"
       ],
       "layout": "IPY_MODEL_8678da3a2dd64d388aee002c83a7ec8e"
      }
     },
     "84bbbed12e4e4de3943e2709609110ee": {
      "model_module": "@jupyter-widgets/controls",
      "model_module_version": "1.4.0",
      "model_name": "LinkModel",
      "state": {
       "source": [
        "IPY_MODEL_21dd171de1e14691bd172aaaf4b3d3c7",
        "max"
       ],
       "target": [
        "IPY_MODEL_c24a524579bc433faad17b3c65d9c06f",
        "max_frame"
       ]
      }
     },
     "8678da3a2dd64d388aee002c83a7ec8e": {
      "model_module": "@jupyter-widgets/base",
      "model_module_version": "1.1.0",
      "model_name": "LayoutModel",
      "state": {}
     },
     "8770835164a64207aa95832343a5f11c": {
      "model_module": "@jupyter-widgets/controls",
      "model_module_version": "1.4.0",
      "model_name": "ButtonStyleModel",
      "state": {}
     },
     "88a6c75fb0a941d9b1220fb4d6d80e69": {
      "model_module": "@jupyter-widgets/base",
      "model_module_version": "1.1.0",
      "model_name": "LayoutModel",
      "state": {}
     },
     "891f96b1dac144429f3572d22c9e8dee": {
      "model_module": "@jupyter-widgets/base",
      "model_module_version": "1.1.0",
      "model_name": "LayoutModel",
      "state": {}
     },
     "89314105b3b54d14835ce87827b12087": {
      "model_module": "@jupyter-widgets/controls",
      "model_module_version": "1.4.0",
      "model_name": "SliderStyleModel",
      "state": {
       "description_width": ""
      }
     },
     "8998c2f26f454335bccd53171877ef54": {
      "model_module": "@jupyter-widgets/controls",
      "model_module_version": "1.4.0",
      "model_name": "LinkModel",
      "state": {
       "source": [
        "IPY_MODEL_c954bc964e1745e88d6e55ddf6cb5d52",
        "max"
       ],
       "target": [
        "IPY_MODEL_c24a524579bc433faad17b3c65d9c06f",
        "max_frame"
       ]
      }
     },
     "8d91b3d551ed4584adddd631b01e778c": {
      "model_module": "@jupyter-widgets/controls",
      "model_module_version": "1.4.0",
      "model_name": "ButtonStyleModel",
      "state": {}
     },
     "915edad6b06d4b4c910c5334fced5d63": {
      "model_module": "@jupyter-widgets/controls",
      "model_module_version": "1.4.0",
      "model_name": "PlayModel",
      "state": {
       "layout": "IPY_MODEL_77a4a31a4a204ea8b4032a328b1718ec",
       "max": 0,
       "style": "IPY_MODEL_b7941f8a8a274d1f98a16fc6a4831748"
      }
     },
     "91763aa1830544b496b921847073cbf3": {
      "model_module": "@jupyter-widgets/controls",
      "model_module_version": "1.4.0",
      "model_name": "LabelModel",
      "state": {
       "layout": "IPY_MODEL_025ab68c52a548c187dc4ffa25813a93",
       "style": "IPY_MODEL_f6dad5a76410410580e280c14defd141",
       "value": "$\\textbf{BMIM}$"
      }
     },
     "9326c44900c9451ca5a1be959f05a495": {
      "model_module": "@jupyter-widgets/controls",
      "model_module_version": "1.4.0",
      "model_name": "PlayModel",
      "state": {
       "layout": "IPY_MODEL_8198833a8862413a8de28d3cfa840cc3",
       "max": 0,
       "style": "IPY_MODEL_55cb7435bc8e40bd94a23d5dcecaf9d2"
      }
     },
     "9340eccb58b8457885b47ce84f9189ba": {
      "model_module": "@jupyter-widgets/controls",
      "model_module_version": "1.4.0",
      "model_name": "LabelModel",
      "state": {
       "layout": "IPY_MODEL_7ee75b443fa847628cec717765ab01b8",
       "style": "IPY_MODEL_cd72f96a7bad41d3809fd77919f2a886",
       "value": "$\\textbf{BF4}$"
      }
     },
     "945313c701364786b782a34aea649862": {
      "model_module": "@jupyter-widgets/controls",
      "model_module_version": "1.4.0",
      "model_name": "DescriptionStyleModel",
      "state": {
       "description_width": ""
      }
     },
     "94c81cd193d84f27aec768cad1a51fbd": {
      "model_module": "@jupyter-widgets/controls",
      "model_module_version": "1.4.0",
      "model_name": "PlayModel",
      "state": {
       "layout": "IPY_MODEL_38a4509c2dc14caa91931822d2f4d85d",
       "max": 0,
       "style": "IPY_MODEL_9fa14ddd012b45dc913c7fe5cce71aad"
      }
     },
     "957943b464a5442e9c04f6b557adb63a": {
      "model_module": "nglview-js-widgets",
      "model_module_version": "2.7.5",
      "model_name": "NGLModel",
      "state": {
       "_camera_orientation": [
        12.247019460438505,
        1.3637965451774807,
        11.923542988704423,
        0,
        2.209953948414655,
        16.488346412997053,
        -4.155820038857953,
        0,
        -11.796055356177611,
        4.504974542974552,
        11.60080111395863,
        0,
        0,
        -0.33500000834465027,
        -0.47499997913837433,
        1
       ],
       "_camera_str": "orthographic",
       "_gui_theme": null,
       "_ibtn_fullscreen": "IPY_MODEL_1f0142059e9a446ba37b455aa799c7df",
       "_igui": null,
       "_iplayer": "IPY_MODEL_844f67d8fbc84047b21125736d327b25",
       "_ngl_color_dict": {},
       "_ngl_coordinate_resource": {},
       "_ngl_full_stage_parameters": {
        "ambientColor": 14540253,
        "ambientIntensity": 0.2,
        "backgroundColor": "white",
        "cameraEyeSep": 0.3,
        "cameraFov": 40,
        "cameraType": "perspective",
        "clipDist": 10,
        "clipFar": 100,
        "clipNear": 0,
        "fogFar": 100,
        "fogNear": 50,
        "hoverTimeout": 0,
        "impostor": true,
        "lightColor": 14540253,
        "lightIntensity": 1,
        "mousePreset": "default",
        "panSpeed": 1,
        "quality": "medium",
        "rotateSpeed": 2,
        "sampleLevel": 0,
        "tooltip": true,
        "workerDefault": true,
        "zoomSpeed": 1.2
       },
       "_ngl_msg_archive": [
        {
         "args": [
          {
           "binary": false,
           "data": "Generated for using with GADDLE Maps\n 5\n    1BF4     B1    1  -0.000   0.000  -0.000\n    1BF4     F2    2  -0.116  -0.067  -0.047\n    1BF4     F3    3   0.116  -0.067  -0.047\n    1BF4     F4    4  -0.000   0.134  -0.047\n    1BF4     F5    5  -0.000   0.000   0.1420.0 0.0 0.0\n",
           "type": "blob"
          }
         ],
         "kwargs": {
          "defaultRepresentation": false,
          "ext": "gro"
         },
         "methodName": "loadFile",
         "reconstruc_color_scheme": false,
         "target": "Stage",
         "type": "call_method"
        },
        {
         "args": [],
         "component_index": 0,
         "kwargs": {},
         "methodName": "removeAllRepresentations",
         "reconstruc_color_scheme": false,
         "target": "compList",
         "type": "call_method"
        },
        {
         "args": [
          "licorice"
         ],
         "component_index": 0,
         "kwargs": {
          "sele": "all"
         },
         "methodName": "addRepresentation",
         "reconstruc_color_scheme": false,
         "target": "compList",
         "type": "call_method"
        }
       ],
       "_ngl_original_stage_parameters": {
        "ambientColor": 14540253,
        "ambientIntensity": 0.2,
        "backgroundColor": "white",
        "cameraEyeSep": 0.3,
        "cameraFov": 40,
        "cameraType": "perspective",
        "clipDist": 10,
        "clipFar": 100,
        "clipNear": 0,
        "fogFar": 100,
        "fogNear": 50,
        "hoverTimeout": 0,
        "impostor": true,
        "lightColor": 14540253,
        "lightIntensity": 1,
        "mousePreset": "default",
        "panSpeed": 1,
        "quality": "medium",
        "rotateSpeed": 2,
        "sampleLevel": 0,
        "tooltip": true,
        "workerDefault": true,
        "zoomSpeed": 1.2
       },
       "_ngl_repr_dict": {
        "0": {
         "0": {
          "params": {
           "assembly": "default",
           "bondScale": 0.4,
           "bondSpacing": 1,
           "clipCenter": {
            "x": 0,
            "y": 0,
            "z": 0
           },
           "clipNear": 0,
           "clipRadius": 0,
           "colorMode": "hcl",
           "colorReverse": false,
           "colorScale": "",
           "colorScheme": "element",
           "colorValue": 9474192,
           "cylinderOnly": false,
           "defaultAssembly": "",
           "depthWrite": true,
           "diffuse": 16777215,
           "diffuseInterior": false,
           "disableImpostor": false,
           "disablePicking": false,
           "flatShaded": false,
           "interiorColor": 2236962,
           "interiorDarkening": 0,
           "lazy": false,
           "lineOnly": false,
           "linewidth": 2,
           "matrix": {
            "elements": [
             1,
             0,
             0,
             0,
             0,
             1,
             0,
             0,
             0,
             0,
             1,
             0,
             0,
             0,
             0,
             1
            ]
           },
           "metalness": 0,
           "multipleBond": "off",
           "opacity": 1,
           "openEnded": true,
           "quality": "medium",
           "radialSegments": 10,
           "radiusData": {},
           "radiusScale": 1,
           "radiusSize": 0.15,
           "radiusType": "size",
           "roughness": 0.4,
           "sele": "all",
           "side": "double",
           "sphereDetail": 1,
           "useInteriorColor": true,
           "useWorker": true,
           "visible": true,
           "wireframe": false
          },
          "type": "licorice"
         }
        }
       },
       "_ngl_serialize": false,
       "_ngl_version": "2.0.0-dev.36",
       "_ngl_view_id": [
        "1148E161-935A-4612-B9C0-1E2C6987CEC7",
        "6D397055-AD60-4A19-B57C-DBDF7388C0C3"
       ],
       "_player_dict": {},
       "_scene_position": {},
       "_scene_rotation": {},
       "_synced_model_ids": [],
       "_synced_repr_model_ids": [],
       "_view_height": "",
       "_view_width": "",
       "background": "white",
       "frame": 0,
       "gui_style": null,
       "layout": "IPY_MODEL_88a6c75fb0a941d9b1220fb4d6d80e69",
       "max_frame": 0,
       "n_components": 1,
       "picked": {}
      }
     },
     "98c68f99f63745f5b308e2e3187dd2ba": {
      "model_module": "@jupyter-widgets/base",
      "model_module_version": "1.1.0",
      "model_name": "LayoutModel",
      "state": {}
     },
     "9dfb188bd8614c0da88410319e15a827": {
      "model_module": "@jupyter-widgets/controls",
      "model_module_version": "1.4.0",
      "model_name": "ButtonModel",
      "state": {
       "description": "Delete restriction",
       "layout": "IPY_MODEL_d5c1d1b82e654466981a6d7c62a8e217",
       "style": "IPY_MODEL_402ddc2965294e00bc7168ca231fdd04"
      }
     },
     "9fa14ddd012b45dc913c7fe5cce71aad": {
      "model_module": "@jupyter-widgets/controls",
      "model_module_version": "1.4.0",
      "model_name": "DescriptionStyleModel",
      "state": {
       "description_width": ""
      }
     },
     "9fc1756fa0944c9581e31785c8306382": {
      "model_module": "@jupyter-widgets/controls",
      "model_module_version": "1.4.0",
      "model_name": "IntSliderModel",
      "state": {
       "layout": "IPY_MODEL_f3f73e6f42934d62ae99dd51e9b71ed0",
       "max": 0,
       "style": "IPY_MODEL_89314105b3b54d14835ce87827b12087"
      }
     },
     "a0b28a5c024c4106ac9a3407abc6130d": {
      "model_module": "@jupyter-widgets/controls",
      "model_module_version": "1.4.0",
      "model_name": "IntSliderModel",
      "state": {
       "layout": "IPY_MODEL_ee72b5692ffe4b74a8142b6dab2fe788",
       "max": 0,
       "style": "IPY_MODEL_3348f94556f642978f6028c9cf058cd0"
      }
     },
     "a1017b32fd764314ba0064a0e54a9e20": {
      "model_module": "@jupyter-widgets/base",
      "model_module_version": "1.1.0",
      "model_name": "LayoutModel",
      "state": {}
     },
     "a12467265baa4a948469749bc41e2084": {
      "model_module": "@jupyter-widgets/base",
      "model_module_version": "1.1.0",
      "model_name": "LayoutModel",
      "state": {}
     },
     "a70706ab36b04215b4ce598b3a8a10ac": {
      "model_module": "@jupyter-widgets/controls",
      "model_module_version": "1.4.0",
      "model_name": "ButtonModel",
      "state": {
       "description": "Add restriction",
       "layout": "IPY_MODEL_1a4d89c94d5c4dce824e2f8942ee4ee0",
       "style": "IPY_MODEL_2b18a8b5af454d6d84979e6d428864a5"
      }
     },
     "a729481903024e85b4e66f61e13c6f86": {
      "model_module": "@jupyter-widgets/controls",
      "model_module_version": "1.4.0",
      "model_name": "ImageModel",
      "state": {
       "layout": "IPY_MODEL_df7efeab44e248c88ee7b20fcac874b8",
       "width": "900.0"
      }
     },
     "a78ba4295d2c4b7e9ae56fd63c49cde7": {
      "model_module": "@jupyter-widgets/controls",
      "model_module_version": "1.4.0",
      "model_name": "ButtonModel",
      "state": {
       "icon": "compress",
       "layout": "IPY_MODEL_7adfe954efe648d6bd1ca1ee0b285708",
       "style": "IPY_MODEL_8770835164a64207aa95832343a5f11c"
      }
     },
     "a7b474067cac4c9bb1fc6469a1e6fed0": {
      "model_module": "@jupyter-widgets/controls",
      "model_module_version": "1.4.0",
      "model_name": "HBoxModel",
      "state": {
       "children": [
        "IPY_MODEL_9326c44900c9451ca5a1be959f05a495",
        "IPY_MODEL_e1758e9338204a3b85d8098242339c62"
       ],
       "layout": "IPY_MODEL_1f60a92d51324ed998d1eaee6db4f073"
      }
     },
     "b0304728b1d044d8a43d28e4ceee0eb3": {
      "model_module": "nglview-js-widgets",
      "model_module_version": "2.7.5",
      "model_name": "NGLModel",
      "state": {
       "_camera_orientation": [
        15.370789700583867,
        0.13281374197038065,
        -7.234760362491174,
        0,
        0.1589034071081412,
        16.97568301740503,
        0.6492371000651559,
        0,
        7.234234354784135,
        -0.6550722210836096,
        15.357646522092189,
        0,
        0.8100000023841858,
        -0.12999999523162842,
        0.9700000286102295,
        1
       ],
       "_camera_str": "orthographic",
       "_gui_theme": null,
       "_ibtn_fullscreen": "IPY_MODEL_c90572ebafeb43d3b24bc72586797c2c",
       "_igui": null,
       "_iplayer": "IPY_MODEL_deab622e4a334eb8b1dec6100ad75e77",
       "_ngl_color_dict": {},
       "_ngl_coordinate_resource": {},
       "_ngl_full_stage_parameters": {
        "ambientColor": 14540253,
        "ambientIntensity": 0.2,
        "backgroundColor": "white",
        "cameraEyeSep": 0.3,
        "cameraFov": 40,
        "cameraType": "perspective",
        "clipDist": 10,
        "clipFar": 100,
        "clipNear": 0,
        "fogFar": 100,
        "fogNear": 50,
        "hoverTimeout": 0,
        "impostor": true,
        "lightColor": 14540253,
        "lightIntensity": 1,
        "mousePreset": "default",
        "panSpeed": 1,
        "quality": "medium",
        "rotateSpeed": 2,
        "sampleLevel": 0,
        "tooltip": true,
        "workerDefault": true,
        "zoomSpeed": 1.2
       },
       "_ngl_msg_archive": [
        {
         "args": [
          {
           "binary": false,
           "data": "Generated for using with GADDLE Maps\n 3\n  301BMIM   P01  301  -0.081   0.013  -0.097  0.0723  0.1304 -0.0661\n  301BMIM   S01  302   0.110  -0.022   0.132 -0.0638  0.1044  0.0441\n  301BMIM   S02  303  -0.028   0.010  -0.036 -0.2099 -0.4862  0.04080.0 0.0 0.0\n",
           "type": "blob"
          }
         ],
         "kwargs": {
          "defaultRepresentation": false,
          "ext": "gro"
         },
         "methodName": "loadFile",
         "reconstruc_color_scheme": false,
         "target": "Stage",
         "type": "call_method"
        },
        {
         "args": [],
         "component_index": 0,
         "kwargs": {},
         "methodName": "removeAllRepresentations",
         "reconstruc_color_scheme": false,
         "target": "compList",
         "type": "call_method"
        },
        {
         "args": [
          "licorice"
         ],
         "component_index": 0,
         "kwargs": {
          "sele": "all"
         },
         "methodName": "addRepresentation",
         "reconstruc_color_scheme": false,
         "target": "compList",
         "type": "call_method"
        },
        {
         "args": [
          "licorice"
         ],
         "component_index": 0,
         "kwargs": {
          "color": "red",
          "opacity": 0.75,
          "radius": 1,
          "sele": "@0"
         },
         "methodName": "addRepresentation",
         "reconstruc_color_scheme": false,
         "target": "compList",
         "type": "call_method"
        },
        {
         "args": [
          "licorice"
         ],
         "component_index": 0,
         "kwargs": {
          "sele": "all"
         },
         "methodName": "addRepresentation",
         "reconstruc_color_scheme": false,
         "target": "compList",
         "type": "call_method"
        }
       ],
       "_ngl_original_stage_parameters": {
        "ambientColor": 14540253,
        "ambientIntensity": 0.2,
        "backgroundColor": "white",
        "cameraEyeSep": 0.3,
        "cameraFov": 40,
        "cameraType": "perspective",
        "clipDist": 10,
        "clipFar": 100,
        "clipNear": 0,
        "fogFar": 100,
        "fogNear": 50,
        "hoverTimeout": 0,
        "impostor": true,
        "lightColor": 14540253,
        "lightIntensity": 1,
        "mousePreset": "default",
        "panSpeed": 1,
        "quality": "medium",
        "rotateSpeed": 2,
        "sampleLevel": 0,
        "tooltip": true,
        "workerDefault": true,
        "zoomSpeed": 1.2
       },
       "_ngl_repr_dict": {
        "0": {
         "0": {
          "params": {
           "assembly": "default",
           "bondScale": 0.4,
           "bondSpacing": 1,
           "clipCenter": {
            "x": 0,
            "y": 0,
            "z": 0
           },
           "clipNear": 0,
           "clipRadius": 0,
           "colorMode": "hcl",
           "colorReverse": false,
           "colorScale": "",
           "colorScheme": "element",
           "colorValue": 9474192,
           "cylinderOnly": false,
           "defaultAssembly": "",
           "depthWrite": true,
           "diffuse": 16777215,
           "diffuseInterior": false,
           "disableImpostor": false,
           "disablePicking": false,
           "flatShaded": false,
           "interiorColor": 2236962,
           "interiorDarkening": 0,
           "lazy": false,
           "lineOnly": false,
           "linewidth": 2,
           "matrix": {
            "elements": [
             1,
             0,
             0,
             0,
             0,
             1,
             0,
             0,
             0,
             0,
             1,
             0,
             0,
             0,
             0,
             1
            ]
           },
           "metalness": 0,
           "multipleBond": "off",
           "opacity": 1,
           "openEnded": true,
           "quality": "medium",
           "radialSegments": 10,
           "radiusData": {},
           "radiusScale": 1,
           "radiusSize": 0.15,
           "radiusType": "size",
           "roughness": 0.4,
           "sele": "all",
           "side": "double",
           "sphereDetail": 1,
           "useInteriorColor": true,
           "useWorker": true,
           "visible": true,
           "wireframe": false
          },
          "type": "licorice"
         },
         "1": {
          "params": {
           "assembly": "default",
           "bondScale": 0.4,
           "bondSpacing": 1,
           "clipCenter": {
            "x": 0,
            "y": 0,
            "z": 0
           },
           "clipNear": 0,
           "clipRadius": 0,
           "colorMode": "hcl",
           "colorReverse": false,
           "colorScale": "",
           "colorScheme": "uniform",
           "colorValue": 16711680,
           "cylinderOnly": false,
           "defaultAssembly": "",
           "depthWrite": true,
           "diffuse": 16777215,
           "diffuseInterior": false,
           "disableImpostor": false,
           "disablePicking": false,
           "flatShaded": false,
           "interiorColor": 2236962,
           "interiorDarkening": 0,
           "lazy": false,
           "lineOnly": false,
           "linewidth": 2,
           "matrix": {
            "elements": [
             1,
             0,
             0,
             0,
             0,
             1,
             0,
             0,
             0,
             0,
             1,
             0,
             0,
             0,
             0,
             1
            ]
           },
           "metalness": 0,
           "multipleBond": "off",
           "opacity": 0.75,
           "openEnded": true,
           "quality": "medium",
           "radialSegments": 10,
           "radiusData": {},
           "radiusScale": 1,
           "radiusSize": 1,
           "radiusType": "size",
           "roughness": 0.4,
           "sele": "@0",
           "side": "double",
           "sphereDetail": 1,
           "useInteriorColor": true,
           "useWorker": true,
           "visible": true,
           "wireframe": false
          },
          "type": "licorice"
         },
         "2": {
          "params": {
           "assembly": "default",
           "bondScale": 0.4,
           "bondSpacing": 1,
           "clipCenter": {
            "x": 0,
            "y": 0,
            "z": 0
           },
           "clipNear": 0,
           "clipRadius": 0,
           "colorMode": "hcl",
           "colorReverse": false,
           "colorScale": "",
           "colorScheme": "element",
           "colorValue": 9474192,
           "cylinderOnly": false,
           "defaultAssembly": "",
           "depthWrite": true,
           "diffuse": 16777215,
           "diffuseInterior": false,
           "disableImpostor": false,
           "disablePicking": false,
           "flatShaded": false,
           "interiorColor": 2236962,
           "interiorDarkening": 0,
           "lazy": false,
           "lineOnly": false,
           "linewidth": 2,
           "matrix": {
            "elements": [
             1,
             0,
             0,
             0,
             0,
             1,
             0,
             0,
             0,
             0,
             1,
             0,
             0,
             0,
             0,
             1
            ]
           },
           "metalness": 0,
           "multipleBond": "off",
           "opacity": 1,
           "openEnded": true,
           "quality": "medium",
           "radialSegments": 10,
           "radiusData": {},
           "radiusScale": 1,
           "radiusSize": 0.15,
           "radiusType": "size",
           "roughness": 0.4,
           "sele": "all",
           "side": "double",
           "sphereDetail": 1,
           "useInteriorColor": true,
           "useWorker": true,
           "visible": true,
           "wireframe": false
          },
          "type": "licorice"
         }
        }
       },
       "_ngl_serialize": false,
       "_ngl_version": "2.0.0-dev.36",
       "_ngl_view_id": [
        "32222B38-ACF0-4D31-B41C-F14FB6AF7018",
        "99CFA250-D6BA-4AD2-97C7-9EB47086CC36"
       ],
       "_player_dict": {},
       "_scene_position": {},
       "_scene_rotation": {},
       "_synced_model_ids": [],
       "_synced_repr_model_ids": [],
       "_view_height": "",
       "_view_width": "",
       "background": "white",
       "frame": 0,
       "gui_style": null,
       "layout": "IPY_MODEL_25e367f21d7241b9af7ee9d6e1b1dbae",
       "max_frame": 0,
       "n_components": 1,
       "picked": {
        "atom1": {
         "altloc": "",
         "atomname": "P01",
         "bfactor": 0,
         "chainname": "A",
         "covalent": 1.07,
         "element": "P",
         "hetero": 0,
         "index": 0,
         "modelIndex": 0,
         "name": "[BMIM]301:A.P01",
         "residueIndex": 0,
         "resname": "BMIM",
         "resno": 301,
         "serial": 301,
         "vdw": 1.8,
         "x": -0.8100000023841858,
         "y": 0.12999999523162842,
         "z": -0.9700000286102295
        },
        "component": 0
       }
      }
     },
     "b517ddddfe21403eacb54dff50cdf1c2": {
      "model_module": "@jupyter-widgets/base",
      "model_module_version": "1.1.0",
      "model_name": "LayoutModel",
      "state": {}
     },
     "b5cf323df7cb4e9cba102fd7ad4c6a30": {
      "model_module": "@jupyter-widgets/controls",
      "model_module_version": "1.4.0",
      "model_name": "LinkModel",
      "state": {
       "source": [
        "IPY_MODEL_e1758e9338204a3b85d8098242339c62",
        "max"
       ],
       "target": [
        "IPY_MODEL_0667fc25976a4f7ba0dc83088cdde93a",
        "max_frame"
       ]
      }
     },
     "b7941f8a8a274d1f98a16fc6a4831748": {
      "model_module": "@jupyter-widgets/controls",
      "model_module_version": "1.4.0",
      "model_name": "DescriptionStyleModel",
      "state": {
       "description_width": ""
      }
     },
     "ba9ca4ef620b4f15b994c9c443d3cafa": {
      "model_module": "@jupyter-widgets/controls",
      "model_module_version": "1.4.0",
      "model_name": "LinkModel",
      "state": {
       "source": [
        "IPY_MODEL_915edad6b06d4b4c910c5334fced5d63",
        "value"
       ],
       "target": [
        "IPY_MODEL_9fc1756fa0944c9581e31785c8306382",
        "value"
       ]
      }
     },
     "bc9f5c23874f40358a9304dc665481f4": {
      "model_module": "nglview-js-widgets",
      "model_module_version": "2.7.5",
      "model_name": "NGLModel",
      "state": {
       "_camera_orientation": [
        22.686750517080355,
        0,
        0,
        0,
        0,
        22.686750517080355,
        0,
        0,
        0,
        0,
        22.686750517080355,
        0,
        0,
        0,
        0,
        1
       ],
       "_camera_str": "orthographic",
       "_gui_theme": null,
       "_ibtn_fullscreen": "IPY_MODEL_4a28f8b248fb452c97c70249a9788ff6",
       "_igui": null,
       "_iplayer": "IPY_MODEL_d297f231b9784e0d9bd87db60167f262",
       "_ngl_color_dict": {},
       "_ngl_coordinate_resource": {},
       "_ngl_full_stage_parameters": {
        "ambientColor": 14540253,
        "ambientIntensity": 0.2,
        "backgroundColor": "white",
        "cameraEyeSep": 0.3,
        "cameraFov": 40,
        "cameraType": "perspective",
        "clipDist": 10,
        "clipFar": 100,
        "clipNear": 0,
        "fogFar": 100,
        "fogNear": 50,
        "hoverTimeout": 0,
        "impostor": true,
        "lightColor": 14540253,
        "lightIntensity": 1,
        "mousePreset": "default",
        "panSpeed": 1,
        "quality": "medium",
        "rotateSpeed": 2,
        "sampleLevel": 0,
        "tooltip": true,
        "workerDefault": true,
        "zoomSpeed": 1.2
       },
       "_ngl_msg_archive": [
        {
         "args": [
          {
           "binary": false,
           "data": "Generated for using with GADDLE Maps\n 1\n    1BF4    Q01    1   0.000   0.000   0.000 -0.1412 -0.0212 -0.03160.0 0.0 0.0\n",
           "type": "blob"
          }
         ],
         "kwargs": {
          "defaultRepresentation": false,
          "ext": "gro"
         },
         "methodName": "loadFile",
         "reconstruc_color_scheme": false,
         "target": "Stage",
         "type": "call_method"
        },
        {
         "args": [],
         "component_index": 0,
         "kwargs": {},
         "methodName": "removeAllRepresentations",
         "reconstruc_color_scheme": false,
         "target": "compList",
         "type": "call_method"
        },
        {
         "args": [
          "licorice"
         ],
         "component_index": 0,
         "kwargs": {
          "sele": "all"
         },
         "methodName": "addRepresentation",
         "reconstruc_color_scheme": false,
         "target": "compList",
         "type": "call_method"
        }
       ],
       "_ngl_original_stage_parameters": {
        "ambientColor": 14540253,
        "ambientIntensity": 0.2,
        "backgroundColor": "white",
        "cameraEyeSep": 0.3,
        "cameraFov": 40,
        "cameraType": "perspective",
        "clipDist": 10,
        "clipFar": 100,
        "clipNear": 0,
        "fogFar": 100,
        "fogNear": 50,
        "hoverTimeout": 0,
        "impostor": true,
        "lightColor": 14540253,
        "lightIntensity": 1,
        "mousePreset": "default",
        "panSpeed": 1,
        "quality": "medium",
        "rotateSpeed": 2,
        "sampleLevel": 0,
        "tooltip": true,
        "workerDefault": true,
        "zoomSpeed": 1.2
       },
       "_ngl_repr_dict": {
        "0": {
         "0": {
          "params": {
           "assembly": "default",
           "bondScale": 0.4,
           "bondSpacing": 1,
           "clipCenter": {
            "x": 0,
            "y": 0,
            "z": 0
           },
           "clipNear": 0,
           "clipRadius": 0,
           "colorMode": "hcl",
           "colorReverse": false,
           "colorScale": "",
           "colorScheme": "element",
           "colorValue": 9474192,
           "cylinderOnly": false,
           "defaultAssembly": "",
           "depthWrite": true,
           "diffuse": 16777215,
           "diffuseInterior": false,
           "disableImpostor": false,
           "disablePicking": false,
           "flatShaded": false,
           "interiorColor": 2236962,
           "interiorDarkening": 0,
           "lazy": false,
           "lineOnly": false,
           "linewidth": 2,
           "matrix": {
            "elements": [
             1,
             0,
             0,
             0,
             0,
             1,
             0,
             0,
             0,
             0,
             1,
             0,
             0,
             0,
             0,
             1
            ]
           },
           "metalness": 0,
           "multipleBond": "off",
           "opacity": 1,
           "openEnded": true,
           "quality": "medium",
           "radialSegments": 10,
           "radiusData": {},
           "radiusScale": 1,
           "radiusSize": 0.15,
           "radiusType": "size",
           "roughness": 0.4,
           "sele": "all",
           "side": "double",
           "sphereDetail": 1,
           "useInteriorColor": true,
           "useWorker": true,
           "visible": true,
           "wireframe": false
          },
          "type": "licorice"
         }
        }
       },
       "_ngl_serialize": false,
       "_ngl_version": "2.0.0-dev.36",
       "_ngl_view_id": [
        "38E610CC-46EA-4198-B136-423A4D07CC51",
        "324A1243-5B68-4032-8CB3-D89514BA9F3E"
       ],
       "_player_dict": {},
       "_scene_position": {},
       "_scene_rotation": {},
       "_synced_model_ids": [],
       "_synced_repr_model_ids": [],
       "_view_height": "",
       "_view_width": "",
       "background": "white",
       "frame": 0,
       "gui_style": null,
       "layout": "IPY_MODEL_5b2149362c6b4ed9bb9ad67f55ab4c9a",
       "max_frame": 0,
       "n_components": 1,
       "picked": {}
      }
     },
     "bd4e06696ff3410f9ce21c0e61a4e582": {
      "model_module": "@jupyter-widgets/controls",
      "model_module_version": "1.4.0",
      "model_name": "LinkModel",
      "state": {
       "source": [
        "IPY_MODEL_225ce14fea8d42a99070f6445f13e13d",
        "value"
       ],
       "target": [
        "IPY_MODEL_736a2c3415b84dada7473b549166ccf3",
        "value"
       ]
      }
     },
     "bdfc135013c048aba72e5564c46b92ee": {
      "model_module": "@jupyter-widgets/base",
      "model_module_version": "1.1.0",
      "model_name": "LayoutModel",
      "state": {}
     },
     "c24a524579bc433faad17b3c65d9c06f": {
      "model_module": "nglview-js-widgets",
      "model_module_version": "2.7.5",
      "model_name": "NGLModel",
      "state": {
       "_camera_orientation": [
        18.720381824578535,
        0,
        0,
        0,
        0,
        18.720381824578535,
        0,
        0,
        0,
        0,
        18.720381824578535,
        0,
        0.732499897480011,
        -0.03999999910593033,
        0.17499999701976776,
        1
       ],
       "_camera_str": "orthographic",
       "_gui_theme": null,
       "_ibtn_fullscreen": "IPY_MODEL_473903c7545e4efc9e58f99340c3f3c5",
       "_igui": null,
       "_iplayer": "IPY_MODEL_499aa767debd4a8aa84a9112389976cf",
       "_ngl_color_dict": {},
       "_ngl_coordinate_resource": {},
       "_ngl_full_stage_parameters": {
        "ambientColor": 14540253,
        "ambientIntensity": 0.2,
        "backgroundColor": "white",
        "cameraEyeSep": 0.3,
        "cameraFov": 40,
        "cameraType": "perspective",
        "clipDist": 10,
        "clipFar": 100,
        "clipNear": 0,
        "fogFar": 100,
        "fogNear": 50,
        "hoverTimeout": 0,
        "impostor": true,
        "lightColor": 14540253,
        "lightIntensity": 1,
        "mousePreset": "default",
        "panSpeed": 1,
        "quality": "medium",
        "rotateSpeed": 2,
        "sampleLevel": 0,
        "tooltip": true,
        "workerDefault": true,
        "zoomSpeed": 1.2
       },
       "_ngl_msg_archive": [
        {
         "args": [
          {
           "binary": false,
           "data": "Generated for using with GADDLE Maps\n 3\n  301BMIM   P01  301   0.248  -0.017   0.001  0.0723  0.1304 -0.0661\n  301BMIM   S01  302  -0.048  -0.008  -0.047 -0.0638  0.1044  0.0441\n  301BMIM   S02  303  -0.259   0.016   0.012 -0.2099 -0.4862  0.04080.0 0.0 0.0\n",
           "type": "blob"
          }
         ],
         "kwargs": {
          "defaultRepresentation": false,
          "ext": "gro"
         },
         "methodName": "loadFile",
         "reconstruc_color_scheme": false,
         "target": "Stage",
         "type": "call_method"
        },
        {
         "args": [],
         "component_index": 0,
         "kwargs": {},
         "methodName": "removeAllRepresentations",
         "reconstruc_color_scheme": false,
         "target": "compList",
         "type": "call_method"
        },
        {
         "args": [
          "licorice"
         ],
         "component_index": 0,
         "kwargs": {
          "opacity": 0.3,
          "radius": 2.5,
          "sele": "all"
         },
         "methodName": "addRepresentation",
         "reconstruc_color_scheme": false,
         "target": "compList",
         "type": "call_method"
        },
        {
         "args": [
          {
           "binary": false,
           "data": "Generated for using with GADDLE Maps\n 25\n    1BMIM    N1    1  -0.292   0.022   0.017\n    1BMIM    C2    2  -0.179   0.110  -0.004\n    1BMIM    N3    3  -0.078   0.018  -0.052\n    1BMIM    C4    4  -0.130  -0.113  -0.060\n    1BMIM    C5    5  -0.259  -0.110  -0.019\n    1BMIM    H6    6  -0.147   0.155   0.093\n    1BMIM    H7    7  -0.076  -0.200  -0.094\n    1BMIM    H8    8  -0.326  -0.195  -0.014\n    1BMIM    C9    9  -0.421   0.063   0.066\n    1BMIM   C10   10   0.057   0.056  -0.088\n    1BMIM   C11   11   0.159  -0.016   0.001\n    1BMIM   C12   12   0.303   0.025  -0.035\n    1BMIM   C13   13   0.404  -0.046   0.053\n    1BMIM   H14   14  -0.422   0.172   0.087\n    1BMIM   H15   15  -0.444   0.009   0.160\n    1BMIM   H16   16  -0.500   0.040  -0.009\n    1BMIM   H17   17   0.075   0.030  -0.195\n    1BMIM   H18   18   0.070   0.165  -0.076\n    1BMIM   H19   19   0.139   0.010   0.107\n    1BMIM   H20   20   0.149  -0.126  -0.011\n    1BMIM   H21   21   0.315   0.135  -0.023\n    1BMIM   H22   22   0.323  -0.002  -0.141\n    1BMIM   H23   23   0.507  -0.015   0.025\n    1BMIM   H24   24   0.388  -0.020   0.160\n    1BMIM   H25   25   0.396  -0.156   0.0410.0 0.0 0.0\n",
           "type": "blob"
          }
         ],
         "kwargs": {
          "defaultRepresentation": false,
          "ext": "gro"
         },
         "methodName": "loadFile",
         "reconstruc_color_scheme": false,
         "target": "Stage",
         "type": "call_method"
        },
        {
         "args": [],
         "component_index": 1,
         "kwargs": {},
         "methodName": "removeAllRepresentations",
         "reconstruc_color_scheme": false,
         "target": "compList",
         "type": "call_method"
        },
        {
         "args": [
          "licorice"
         ],
         "component_index": 1,
         "kwargs": {
          "sele": "all"
         },
         "methodName": "addRepresentation",
         "reconstruc_color_scheme": false,
         "target": "compList",
         "type": "call_method"
        }
       ],
       "_ngl_original_stage_parameters": {
        "ambientColor": 14540253,
        "ambientIntensity": 0.2,
        "backgroundColor": "white",
        "cameraEyeSep": 0.3,
        "cameraFov": 40,
        "cameraType": "perspective",
        "clipDist": 10,
        "clipFar": 100,
        "clipNear": 0,
        "fogFar": 100,
        "fogNear": 50,
        "hoverTimeout": 0,
        "impostor": true,
        "lightColor": 14540253,
        "lightIntensity": 1,
        "mousePreset": "default",
        "panSpeed": 1,
        "quality": "medium",
        "rotateSpeed": 2,
        "sampleLevel": 0,
        "tooltip": true,
        "workerDefault": true,
        "zoomSpeed": 1.2
       },
       "_ngl_repr_dict": {
        "0": {
         "0": {
          "params": {
           "assembly": "default",
           "bondScale": 0.4,
           "bondSpacing": 1,
           "clipCenter": {
            "x": 0,
            "y": 0,
            "z": 0
           },
           "clipNear": 0,
           "clipRadius": 0,
           "colorMode": "hcl",
           "colorReverse": false,
           "colorScale": "",
           "colorScheme": "element",
           "colorValue": 9474192,
           "cylinderOnly": false,
           "defaultAssembly": "",
           "depthWrite": true,
           "diffuse": 16777215,
           "diffuseInterior": false,
           "disableImpostor": false,
           "disablePicking": false,
           "flatShaded": false,
           "interiorColor": 2236962,
           "interiorDarkening": 0,
           "lazy": false,
           "lineOnly": false,
           "linewidth": 2,
           "matrix": {
            "elements": [
             1,
             0,
             0,
             0,
             0,
             1,
             0,
             0,
             0,
             0,
             1,
             0,
             0,
             0,
             0,
             1
            ]
           },
           "metalness": 0,
           "multipleBond": "off",
           "opacity": 0.3,
           "openEnded": true,
           "quality": "medium",
           "radialSegments": 10,
           "radiusData": {},
           "radiusScale": 1,
           "radiusSize": 2.5,
           "radiusType": "size",
           "roughness": 0.4,
           "sele": "all",
           "side": "double",
           "sphereDetail": 1,
           "useInteriorColor": true,
           "useWorker": true,
           "visible": true,
           "wireframe": false
          },
          "type": "licorice"
         }
        },
        "1": {
         "0": {
          "params": {
           "assembly": "default",
           "bondScale": 0.4,
           "bondSpacing": 1,
           "clipCenter": {
            "x": 0,
            "y": 0,
            "z": 0
           },
           "clipNear": 0,
           "clipRadius": 0,
           "colorMode": "hcl",
           "colorReverse": false,
           "colorScale": "",
           "colorScheme": "element",
           "colorValue": 9474192,
           "cylinderOnly": false,
           "defaultAssembly": "",
           "depthWrite": true,
           "diffuse": 16777215,
           "diffuseInterior": false,
           "disableImpostor": false,
           "disablePicking": false,
           "flatShaded": false,
           "interiorColor": 2236962,
           "interiorDarkening": 0,
           "lazy": false,
           "lineOnly": false,
           "linewidth": 2,
           "matrix": {
            "elements": [
             1,
             0,
             0,
             0,
             0,
             1,
             0,
             0,
             0,
             0,
             1,
             0,
             0,
             0,
             0,
             1
            ]
           },
           "metalness": 0,
           "multipleBond": "off",
           "opacity": 1,
           "openEnded": true,
           "quality": "medium",
           "radialSegments": 10,
           "radiusData": {},
           "radiusScale": 1,
           "radiusSize": 0.15,
           "radiusType": "size",
           "roughness": 0.4,
           "sele": "all",
           "side": "double",
           "sphereDetail": 1,
           "useInteriorColor": true,
           "useWorker": true,
           "visible": true,
           "wireframe": false
          },
          "type": "licorice"
         }
        }
       },
       "_ngl_serialize": false,
       "_ngl_version": "2.0.0-dev.36",
       "_ngl_view_id": [
        "6919E53D-55D2-4CE8-8777-7F0AC9330D3A",
        "A0ABFED2-A47B-4B58-8E42-1ED2B600F165"
       ],
       "_player_dict": {},
       "_scene_position": {},
       "_scene_rotation": {},
       "_synced_model_ids": [],
       "_synced_repr_model_ids": [],
       "_view_height": "",
       "_view_width": "",
       "background": "white",
       "frame": 0,
       "gui_style": null,
       "layout": "IPY_MODEL_ff9aa9438ae54f7ab5fe1414585ba640",
       "max_frame": 0,
       "n_components": 2,
       "picked": {}
      }
     },
     "c281c9e56941456cb90f59b486974cf8": {
      "model_module": "@jupyter-widgets/controls",
      "model_module_version": "1.4.0",
      "model_name": "LinkModel",
      "state": {
       "source": [
        "IPY_MODEL_94c81cd193d84f27aec768cad1a51fbd",
        "value"
       ],
       "target": [
        "IPY_MODEL_5f0ba2da7e984ffcab212db0fe5e29b8",
        "value"
       ]
      }
     },
     "c3db9fe14b174d409f0afe6a5de87b75": {
      "model_module": "@jupyter-widgets/base",
      "model_module_version": "1.1.0",
      "model_name": "LayoutModel",
      "state": {}
     },
     "c90572ebafeb43d3b24bc72586797c2c": {
      "model_module": "@jupyter-widgets/controls",
      "model_module_version": "1.4.0",
      "model_name": "ButtonModel",
      "state": {
       "icon": "compress",
       "layout": "IPY_MODEL_eefc59aa3bd2458aabaaecfa300d0d23",
       "style": "IPY_MODEL_39a82563ec0f4c75b2c8e40a35defde7"
      }
     },
     "c954bc964e1745e88d6e55ddf6cb5d52": {
      "model_module": "@jupyter-widgets/controls",
      "model_module_version": "1.4.0",
      "model_name": "PlayModel",
      "state": {
       "layout": "IPY_MODEL_4e1ade964ab94e63b1ea0fc408b620f5",
       "max": 0,
       "style": "IPY_MODEL_945313c701364786b782a34aea649862"
      }
     },
     "c95d5a79b2314df699a0b0cc2fb9781c": {
      "model_module": "@jupyter-widgets/base",
      "model_module_version": "1.1.0",
      "model_name": "LayoutModel",
      "state": {
       "width": "34px"
      }
     },
     "ca423e718a924dcbae09d4ca4d37c94f": {
      "model_module": "@jupyter-widgets/base",
      "model_module_version": "1.1.0",
      "model_name": "LayoutModel",
      "state": {}
     },
     "cb5ea79b44264a14a5ff4f241b2e6369": {
      "model_module": "@jupyter-widgets/base",
      "model_module_version": "1.1.0",
      "model_name": "LayoutModel",
      "state": {}
     },
     "cd72f96a7bad41d3809fd77919f2a886": {
      "model_module": "@jupyter-widgets/controls",
      "model_module_version": "1.4.0",
      "model_name": "DescriptionStyleModel",
      "state": {
       "description_width": ""
      }
     },
     "cdf16ddbcfad4f8cb8b75a3920b2d33b": {
      "model_module": "@jupyter-widgets/base",
      "model_module_version": "1.1.0",
      "model_name": "LayoutModel",
      "state": {}
     },
     "ce3e0395725749159e25d16c117b8010": {
      "model_module": "@jupyter-widgets/controls",
      "model_module_version": "1.4.0",
      "model_name": "LinkModel",
      "state": {
       "source": [
        "IPY_MODEL_225ce14fea8d42a99070f6445f13e13d",
        "max"
       ],
       "target": [
        "IPY_MODEL_957943b464a5442e9c04f6b557adb63a",
        "max_frame"
       ]
      }
     },
     "ce49951a9d2f4bccab7f79d305703863": {
      "model_module": "@jupyter-widgets/base",
      "model_module_version": "1.1.0",
      "model_name": "LayoutModel",
      "state": {}
     },
     "d09abd18f54d4d328488396fc4792cd7": {
      "model_module": "nglview-js-widgets",
      "model_module_version": "2.7.5",
      "model_name": "ColormakerRegistryModel",
      "state": {
       "_msg_ar": [],
       "_msg_q": [],
       "_ready": true,
       "layout": "IPY_MODEL_141031fb091a451b9156ee98aeade7b9"
      }
     },
     "d297f231b9784e0d9bd87db60167f262": {
      "model_module": "@jupyter-widgets/controls",
      "model_module_version": "1.4.0",
      "model_name": "HBoxModel",
      "state": {
       "children": [
        "IPY_MODEL_842264ab5ea34ee99f977facbe5969bf",
        "IPY_MODEL_a0b28a5c024c4106ac9a3407abc6130d"
       ],
       "layout": "IPY_MODEL_54da1fe862ac49d98739d2c33c6d9dd7"
      }
     },
     "d2e9243378e443aa9658457cae7445e9": {
      "model_module": "@jupyter-widgets/controls",
      "model_module_version": "1.4.0",
      "model_name": "HBoxModel",
      "state": {
       "children": [
        "IPY_MODEL_e2ca4935314c403cadea50bc92d3918d",
        "IPY_MODEL_eb807d76a63444348ad704100c554b14"
       ],
       "layout": "IPY_MODEL_fa43306a33d64bcca36031c5f7de6fa0"
      }
     },
     "d50c2cd8453443e18022661b02d36176": {
      "model_module": "@jupyter-widgets/base",
      "model_module_version": "1.1.0",
      "model_name": "LayoutModel",
      "state": {}
     },
     "d5a0b46c0e574d71af38595f3181bf41": {
      "model_module": "@jupyter-widgets/base",
      "model_module_version": "1.1.0",
      "model_name": "LayoutModel",
      "state": {
       "width": "34px"
      }
     },
     "d5c1d1b82e654466981a6d7c62a8e217": {
      "model_module": "@jupyter-widgets/base",
      "model_module_version": "1.1.0",
      "model_name": "LayoutModel",
      "state": {}
     },
     "d80ac10bdba647eeb04f40f12aec14fe": {
      "model_module": "@jupyter-widgets/base",
      "model_module_version": "1.1.0",
      "model_name": "LayoutModel",
      "state": {}
     },
     "d908bba884b94a9f8638794bb0d3efc8": {
      "model_module": "@jupyter-widgets/controls",
      "model_module_version": "1.4.0",
      "model_name": "DescriptionStyleModel",
      "state": {
       "description_width": ""
      }
     },
     "d90ac59f182c4c66b78bb147216b5d9b": {
      "model_module": "@jupyter-widgets/base",
      "model_module_version": "1.1.0",
      "model_name": "LayoutModel",
      "state": {
       "width": "34px"
      }
     },
     "da66e1794222408ca3d88fd354c90347": {
      "model_module": "@jupyter-widgets/controls",
      "model_module_version": "1.4.0",
      "model_name": "LinkModel",
      "state": {
       "source": [
        "IPY_MODEL_842264ab5ea34ee99f977facbe5969bf",
        "max"
       ],
       "target": [
        "IPY_MODEL_bc9f5c23874f40358a9304dc665481f4",
        "max_frame"
       ]
      }
     },
     "ddd44409123f495b85a619ebde4fb97d": {
      "model_module": "@jupyter-widgets/controls",
      "model_module_version": "1.4.0",
      "model_name": "LabelModel",
      "state": {
       "layout": "IPY_MODEL_0ab34c4f41d44b80b4bcb31758851e2f",
       "style": "IPY_MODEL_fdd574a1c12e4adb8524d842a69a14be"
      }
     },
     "deab622e4a334eb8b1dec6100ad75e77": {
      "model_module": "@jupyter-widgets/controls",
      "model_module_version": "1.4.0",
      "model_name": "HBoxModel",
      "state": {
       "children": [
        "IPY_MODEL_94c81cd193d84f27aec768cad1a51fbd",
        "IPY_MODEL_5f0ba2da7e984ffcab212db0fe5e29b8"
       ],
       "layout": "IPY_MODEL_0e1f2f3525d84e28af8d385329c65852"
      }
     },
     "df7efeab44e248c88ee7b20fcac874b8": {
      "model_module": "@jupyter-widgets/base",
      "model_module_version": "1.1.0",
      "model_name": "LayoutModel",
      "state": {}
     },
     "e1758e9338204a3b85d8098242339c62": {
      "model_module": "@jupyter-widgets/controls",
      "model_module_version": "1.4.0",
      "model_name": "IntSliderModel",
      "state": {
       "layout": "IPY_MODEL_d50c2cd8453443e18022661b02d36176",
       "max": 0,
       "style": "IPY_MODEL_1731867cf25f46bc9e2e93711241d612"
      }
     },
     "e1e2e82ea7e44b178d2166bb3c22f0e0": {
      "model_module": "@jupyter-widgets/controls",
      "model_module_version": "1.4.0",
      "model_name": "LinkModel",
      "state": {
       "source": [
        "IPY_MODEL_9326c44900c9451ca5a1be959f05a495",
        "max"
       ],
       "target": [
        "IPY_MODEL_0667fc25976a4f7ba0dc83088cdde93a",
        "max_frame"
       ]
      }
     },
     "e2ca4935314c403cadea50bc92d3918d": {
      "model_module": "@jupyter-widgets/controls",
      "model_module_version": "1.4.0",
      "model_name": "LabelModel",
      "state": {
       "layout": "IPY_MODEL_cb5ea79b44264a14a5ff4f241b2e6369",
       "style": "IPY_MODEL_481cd8c711cb4e2dae429fb7534df56f",
       "value": "Restrictions ="
      }
     },
     "e32bcd37a73b4d22a827b61621811ad3": {
      "model_module": "@jupyter-widgets/controls",
      "model_module_version": "1.4.0",
      "model_name": "ImageModel",
      "state": {
       "layout": "IPY_MODEL_21463e70cef64ccbae1f056717755e63",
       "width": "900.0"
      }
     },
     "e3b4735925bf44ad9f1cf09ca5db0e47": {
      "model_module": "@jupyter-widgets/controls",
      "model_module_version": "1.4.0",
      "model_name": "LabelModel",
      "state": {
       "layout": "IPY_MODEL_c3db9fe14b174d409f0afe6a5de87b75",
       "style": "IPY_MODEL_624151881d4c4bc88c45f6fb38b8c98a",
       "value": "BF4"
      }
     },
     "e71bd3884017498a9a374d813623bb1f": {
      "model_module": "@jupyter-widgets/controls",
      "model_module_version": "1.4.0",
      "model_name": "ImageModel",
      "state": {
       "layout": "IPY_MODEL_23feeadfb0174a3e9259cd93925d7ec9",
       "width": "900.0"
      }
     },
     "eb807d76a63444348ad704100c554b14": {
      "model_module": "@jupyter-widgets/controls",
      "model_module_version": "1.4.0",
      "model_name": "LabelModel",
      "state": {
       "layout": "IPY_MODEL_cdf16ddbcfad4f8cb8b75a3920b2d33b",
       "style": "IPY_MODEL_1b4df500aff24168accb91f352a3f05c",
       "value": "(0, 12)"
      }
     },
     "edf16445eb3a44dc8f003e922eb0831c": {
      "model_module": "@jupyter-widgets/controls",
      "model_module_version": "1.4.0",
      "model_name": "DescriptionStyleModel",
      "state": {
       "description_width": ""
      }
     },
     "ee72b5692ffe4b74a8142b6dab2fe788": {
      "model_module": "@jupyter-widgets/base",
      "model_module_version": "1.1.0",
      "model_name": "LayoutModel",
      "state": {}
     },
     "eefc59aa3bd2458aabaaecfa300d0d23": {
      "model_module": "@jupyter-widgets/base",
      "model_module_version": "1.1.0",
      "model_name": "LayoutModel",
      "state": {
       "width": "34px"
      }
     },
     "f032f79711bf4402aaa7446a861bfd7b": {
      "model_module": "@jupyter-widgets/controls",
      "model_module_version": "1.4.0",
      "model_name": "VBoxModel",
      "state": {
       "children": [
        "IPY_MODEL_2c356bcf06974361a76c4c1df723188d",
        "IPY_MODEL_c24a524579bc433faad17b3c65d9c06f",
        "IPY_MODEL_e3b4735925bf44ad9f1cf09ca5db0e47",
        "IPY_MODEL_0667fc25976a4f7ba0dc83088cdde93a"
       ],
       "layout": "IPY_MODEL_ce49951a9d2f4bccab7f79d305703863"
      }
     },
     "f121604503db493092970e819c5fe943": {
      "model_module": "@jupyter-widgets/controls",
      "model_module_version": "1.4.0",
      "model_name": "DescriptionStyleModel",
      "state": {
       "description_width": ""
      }
     },
     "f1d9e2e70dd741b1b25eaa6aab875560": {
      "model_module": "@jupyter-widgets/controls",
      "model_module_version": "1.4.0",
      "model_name": "DescriptionStyleModel",
      "state": {
       "description_width": ""
      }
     },
     "f3f73e6f42934d62ae99dd51e9b71ed0": {
      "model_module": "@jupyter-widgets/base",
      "model_module_version": "1.1.0",
      "model_name": "LayoutModel",
      "state": {}
     },
     "f6dad5a76410410580e280c14defd141": {
      "model_module": "@jupyter-widgets/controls",
      "model_module_version": "1.4.0",
      "model_name": "DescriptionStyleModel",
      "state": {
       "description_width": ""
      }
     },
     "f7f06ebbf02144ec913c0d9e4edd0907": {
      "model_module": "@jupyter-widgets/controls",
      "model_module_version": "1.4.0",
      "model_name": "SliderStyleModel",
      "state": {
       "description_width": ""
      }
     },
     "f8c561058a2f43ca97e38b2fbd2119f6": {
      "model_module": "@jupyter-widgets/controls",
      "model_module_version": "1.4.0",
      "model_name": "LinkModel",
      "state": {
       "source": [
        "IPY_MODEL_842264ab5ea34ee99f977facbe5969bf",
        "value"
       ],
       "target": [
        "IPY_MODEL_a0b28a5c024c4106ac9a3407abc6130d",
        "value"
       ]
      }
     },
     "f90cc88d1c87424cb08c0567d8deb006": {
      "model_module": "@jupyter-widgets/base",
      "model_module_version": "1.1.0",
      "model_name": "LayoutModel",
      "state": {}
     },
     "f9c21f7422e24840a0610a84ffff85db": {
      "model_module": "@jupyter-widgets/base",
      "model_module_version": "1.1.0",
      "model_name": "LayoutModel",
      "state": {}
     },
     "fa43306a33d64bcca36031c5f7de6fa0": {
      "model_module": "@jupyter-widgets/base",
      "model_module_version": "1.1.0",
      "model_name": "LayoutModel",
      "state": {}
     },
     "fa70d453b8fb48eabf04746c1b3c8e3f": {
      "model_module": "@jupyter-widgets/base",
      "model_module_version": "1.1.0",
      "model_name": "LayoutModel",
      "state": {}
     },
     "fb098a23fee0424b9cfe01ac2bba74ea": {
      "model_module": "@jupyter-widgets/controls",
      "model_module_version": "1.4.0",
      "model_name": "ButtonModel",
      "state": {
       "description": "Add restriction",
       "layout": "IPY_MODEL_61c31e65241b4bb1af47ed6489d38ce4",
       "style": "IPY_MODEL_5e55dcf9662e431bb2e5b2808267d416"
      }
     },
     "fc5914ef836e4728b5163d968b666efb": {
      "model_module": "@jupyter-widgets/base",
      "model_module_version": "1.1.0",
      "model_name": "LayoutModel",
      "state": {}
     },
     "fdd574a1c12e4adb8524d842a69a14be": {
      "model_module": "@jupyter-widgets/controls",
      "model_module_version": "1.4.0",
      "model_name": "DescriptionStyleModel",
      "state": {
       "description_width": ""
      }
     },
     "ff4d82ebe2d74313a2b79347e02883a4": {
      "model_module": "@jupyter-widgets/controls",
      "model_module_version": "1.4.0",
      "model_name": "LinkModel",
      "state": {
       "source": [
        "IPY_MODEL_c954bc964e1745e88d6e55ddf6cb5d52",
        "value"
       ],
       "target": [
        "IPY_MODEL_21dd171de1e14691bd172aaaf4b3d3c7",
        "value"
       ]
      }
     },
     "ff9aa9438ae54f7ab5fe1414585ba640": {
      "model_module": "@jupyter-widgets/base",
      "model_module_version": "1.1.0",
      "model_name": "LayoutModel",
      "state": {}
     }
    },
    "version_major": 2,
    "version_minor": 0
   }
  }
 },
 "nbformat": 4,
 "nbformat_minor": 2
}
