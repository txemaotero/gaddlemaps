{
 "cells": [
  {
   "cell_type": "code",
   "execution_count": 181,
   "metadata": {},
   "outputs": [],
   "source": [
    "import nglview\n",
    "from ipywidgets import Button, HBox, VBox, Layout, Label\n",
    "from IPython.display import display\n",
    "from itertools import cycle\n",
    "\n",
    "from gaddlemaps.components import Molecule"
   ]
  },
  {
   "cell_type": "code",
   "execution_count": 223,
   "metadata": {},
   "outputs": [],
   "source": [
    "def create_restrictions(file1, file2):\n",
    "    restrictions = []\n",
    "    text = Label(value=\"Low Resolution\")\n",
    "    view = nglview.show_file(file1)\n",
    "    text2 = Label(value=\"High Resolution\")\n",
    "    view2 = nglview.show_file(file2)\n",
    "    button = Button(description=\"Add restriction\")\n",
    "    button2 = Button(description=\"Delete restriction\")\n",
    "    \n",
    "\n",
    "\n",
    "    \n",
    "    restrictions_text = Label(value=\"Restrictions =\")\n",
    "    restrictions_val = Label(value=\"\")\n",
    "    \n",
    "    def update_restrictions(reset=False):\n",
    "        if reset:\n",
    "            view.clear_representations()\n",
    "            view2.clear_representations()\n",
    "        colors = cycle([\"red\", \"blue\", \"green\", \"white\", \"grey\", ])\n",
    "        view.add_representation('licorice', selection=\"all\")\n",
    "        view2.add_representation('licorice', selection=\"all\")\n",
    "        restrictions_val.value = \", \".join([str(i) for i in restrictions])\n",
    "        \n",
    "        for restriction in restrictions:\n",
    "            color=next(colors)\n",
    "            view.add_representation(\"licorice\", radius=1, color=color, selection=[restriction[0]])\n",
    "            view2.add_representation(\"licorice\", radius=1, color=color, selection=[restriction[1]])\n",
    "    \n",
    "    def on_button_press(*args):\n",
    "        restrictions.append((view.picked[\"atom1\"][\"index\"], view2.picked[\"atom1\"][\"index\"]))        \n",
    "        update_restrictions()\n",
    "    \n",
    "    def delete_restriction(*args):\n",
    "        if restrictions:\n",
    "            restrictions.pop()\n",
    "        update_restrictions(reset=True)\n",
    "    \n",
    "    button.on_click(on_button_press)\n",
    "    button2.on_click(delete_restriction)\n",
    "    update_restrictions(reset=True)\n",
    "    display(VBox([text, view, text2, view2, HBox([button, button2]), HBox([restrictions_text, restrictions_val])]))\n",
    "    return restrictions\n",
    "    \n",
    "    "
   ]
  },
  {
   "cell_type": "code",
   "execution_count": 224,
   "metadata": {},
   "outputs": [
    {
     "data": {
      "application/vnd.jupyter.widget-view+json": {
       "model_id": "b3e22bd4dae04c30a66ddc75fc8a9eab",
       "version_major": 2,
       "version_minor": 0
      },
      "text/plain": [
       "VBox(children=(Label(value='Low Resolution'), NGLWidget(), Label(value='High Resolution'), NGLWidget(), HBox(c…"
      ]
     },
     "metadata": {},
     "output_type": "display_data"
    }
   ],
   "source": [
    "restrictions = create_restrictions(\"../../gaddlemaps/data/Protein_AA.gro\", \"../../gaddlemaps/data/CUR_AA.gro\")"
   ]
  },
  {
   "cell_type": "code",
   "execution_count": 225,
   "metadata": {},
   "outputs": [
    {
     "name": "stdout",
     "output_type": "stream",
     "text": [
      "[(168, 24), (0, 6), (48, 17), (118, 32), (24, 26)]\n"
     ]
    }
   ],
   "source": [
    "print(restrictions)"
   ]
  },
  {
   "cell_type": "code",
   "execution_count": 51,
   "metadata": {},
   "outputs": [],
   "source": []
  },
  {
   "cell_type": "code",
   "execution_count": 61,
   "metadata": {},
   "outputs": [],
   "source": []
  },
  {
   "cell_type": "code",
   "execution_count": 203,
   "metadata": {},
   "outputs": [],
   "source": []
  },
  {
   "cell_type": "code",
   "execution_count": 210,
   "metadata": {},
   "outputs": [],
   "source": []
  },
  {
   "cell_type": "code",
   "execution_count": 209,
   "metadata": {},
   "outputs": [
    {
     "data": {
      "application/vnd.jupyter.widget-view+json": {
       "model_id": "10218f381f3948c3ad3c8c494a3a7ef2",
       "version_major": 2,
       "version_minor": 0
      },
      "text/plain": [
       "NGLWidget(n_components=1)"
      ]
     },
     "metadata": {},
     "output_type": "display_data"
    }
   ],
   "source": []
  },
  {
   "cell_type": "code",
   "execution_count": 208,
   "metadata": {},
   "outputs": [],
   "source": [
    "view.clear_representations()\n"
   ]
  },
  {
   "cell_type": "code",
   "execution_count": null,
   "metadata": {},
   "outputs": [],
   "source": []
  }
 ],
 "metadata": {
  "kernelspec": {
   "display_name": "Python 3",
   "language": "python",
   "name": "python3"
  },
  "language_info": {
   "codemirror_mode": {
    "name": "ipython",
    "version": 3
   },
   "file_extension": ".py",
   "mimetype": "text/x-python",
   "name": "python",
   "nbconvert_exporter": "python",
   "pygments_lexer": "ipython3",
   "version": "3.7.4"
  }
 },
 "nbformat": 4,
 "nbformat_minor": 2
}
