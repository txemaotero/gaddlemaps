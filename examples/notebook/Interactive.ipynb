{
 "cells": [
  {
   "cell_type": "code",
   "execution_count": 1,
   "metadata": {},
   "outputs": [
    {
     "data": {
      "application/vnd.jupyter.widget-view+json": {
       "model_id": "652f7021f9704614b2d837d939928255",
       "version_major": 2,
       "version_minor": 0
      },
      "text/plain": [
       "_ColormakerRegistry()"
      ]
     },
     "metadata": {},
     "output_type": "display_data"
    }
   ],
   "source": [
    "import nglview\n",
    "from ipywidgets import Button, HBox, VBox, Layout, Label\n",
    "from IPython.display import display\n",
    "\n",
    "from gaddlemaps.components import Molecule"
   ]
  },
  {
   "cell_type": "code",
   "execution_count": 49,
   "metadata": {},
   "outputs": [],
   "source": [
    "class Cycle:\n",
    "    def __init__(self, values):\n",
    "        self._values = values\n",
    "        self._index = 0\n",
    "    \n",
    "    def __iter__(self):\n",
    "        while True:\n",
    "            yield self._values[self._index]\n",
    "            self._index += 1\n",
    "            self._index %= len(self._values)\n",
    "    def __next__(self):\n",
    "            val = self._values[self._index]\n",
    "            self._index += 1\n",
    "            self._index %= len(self._values)\n",
    "            return val\n",
    "            \n",
    "    def reset(self):\n",
    "        self._index = 0"
   ]
  },
  {
   "cell_type": "code",
   "execution_count": 50,
   "metadata": {},
   "outputs": [],
   "source": [
    "def create_restrictions(file1, file2):\n",
    "    restrictions = []\n",
    "    text = Label(value=\"Low Resolution\")\n",
    "    view = nglview.show_file(file1)\n",
    "    text2 = Label(value=\"High Resolution\")\n",
    "    view2 = nglview.show_file(file2)\n",
    "    button = Button(description=\"Add restriction\")\n",
    "    button2 = Button(description=\"Delete restriction\")\n",
    "    \n",
    "    colors = Cycle([\"red\", \"blue\", \"green\", \"white\", \"grey\", \"#ff00ff\"])\n",
    "\n",
    "\n",
    "\n",
    "    \n",
    "    restrictions_text = Label(value=\"Restrictions =\")\n",
    "    restrictions_val = Label(value=\"\")\n",
    "    \n",
    "    def update_restrictions(reset=False):\n",
    "        if reset:\n",
    "            view.clear_representations()\n",
    "            view2.clear_representations()\n",
    "            colors.reset()\n",
    "            for restriction in restrictions:\n",
    "                color=next(colors)\n",
    "                view.add_representation(\"licorice\", radius=1, color=color, selection=[restriction[0]], opacity=0.75)\n",
    "                view2.add_representation(\"licorice\", radius=1, color=color, selection=[restriction[1]], opacity=0.75)\n",
    "        view.add_representation('licorice', selection=\"all\")\n",
    "        view2.add_representation('licorice', selection=\"all\")\n",
    "        restrictions_val.value = \", \".join([str(i) for i in restrictions])\n",
    "        \n",
    "    \n",
    "    def on_button_press(*args):\n",
    "        color=next(colors)\n",
    "        restrictions.append((view.picked[\"atom1\"][\"index\"], view2.picked[\"atom1\"][\"index\"]))\n",
    "        view.add_representation(\"licorice\", radius=1, color=color, selection=[restrictions[-1][0]], opacity=0.75)\n",
    "        view2.add_representation(\"licorice\", radius=1, color=color, selection=[restrictions[-1][1]], opacity=0.75)\n",
    "        update_restrictions()\n",
    "    \n",
    "    def delete_restriction(*args):\n",
    "        if restrictions:\n",
    "            restrictions.pop()\n",
    "        update_restrictions(reset=True)\n",
    "    \n",
    "    button.on_click(on_button_press)\n",
    "    button2.on_click(delete_restriction)\n",
    "    update_restrictions(reset=True)\n",
    "    display(VBox([text, view, text2, view2, HBox([button, button2]), HBox([restrictions_text, restrictions_val])]))\n",
    "    return restrictions\n",
    "    \n",
    "    "
   ]
  },
  {
   "cell_type": "code",
   "execution_count": 51,
   "metadata": {},
   "outputs": [
    {
     "data": {
      "application/vnd.jupyter.widget-view+json": {
       "model_id": "8f69dc4afcdb445db542923ebde8b6b2",
       "version_major": 2,
       "version_minor": 0
      },
      "text/plain": [
       "VBox(children=(Label(value='Low Resolution'), NGLWidget(), Label(value='High Resolution'), NGLWidget(), HBox(c…"
      ]
     },
     "metadata": {},
     "output_type": "display_data"
    }
   ],
   "source": [
    "restrictions = create_restrictions(\"../../gaddlemaps/data/Protein_AA.gro\", \"../../gaddlemaps/data/CUR_AA.gro\")"
   ]
  },
  {
   "cell_type": "code",
   "execution_count": 5,
   "metadata": {},
   "outputs": [
    {
     "name": "stdout",
     "output_type": "stream",
     "text": [
      "[(157, 24), (62, 37), (25, 3)]\n"
     ]
    }
   ],
   "source": [
    "print(restrictions)"
   ]
  },
  {
   "cell_type": "code",
   "execution_count": 31,
   "metadata": {},
   "outputs": [],
   "source": []
  },
  {
   "cell_type": "code",
   "execution_count": 33,
   "metadata": {},
   "outputs": [
    {
     "ename": "AttributeError",
     "evalue": "'itertools.cycle' object has no attribute 'restart'",
     "output_type": "error",
     "traceback": [
      "\u001b[0;31m---------------------------------------------------------------------------\u001b[0m",
      "\u001b[0;31mAttributeError\u001b[0m                            Traceback (most recent call last)",
      "\u001b[0;32m<ipython-input-33-f749ab59f1e8>\u001b[0m in \u001b[0;36m<module>\u001b[0;34m\u001b[0m\n\u001b[0;32m----> 1\u001b[0;31m \u001b[0mcolors\u001b[0m\u001b[0;34m.\u001b[0m\u001b[0mrestart\u001b[0m\u001b[0;34m\u001b[0m\u001b[0;34m\u001b[0m\u001b[0m\n\u001b[0m",
      "\u001b[0;31mAttributeError\u001b[0m: 'itertools.cycle' object has no attribute 'restart'"
     ]
    }
   ],
   "source": []
  },
  {
   "cell_type": "code",
   "execution_count": 210,
   "metadata": {},
   "outputs": [],
   "source": []
  },
  {
   "cell_type": "code",
   "execution_count": 209,
   "metadata": {},
   "outputs": [
    {
     "data": {
      "application/vnd.jupyter.widget-view+json": {
       "model_id": "10218f381f3948c3ad3c8c494a3a7ef2",
       "version_major": 2,
       "version_minor": 0
      },
      "text/plain": [
       "NGLWidget(n_components=1)"
      ]
     },
     "metadata": {},
     "output_type": "display_data"
    }
   ],
   "source": []
  },
  {
   "cell_type": "code",
   "execution_count": 208,
   "metadata": {},
   "outputs": [],
   "source": []
  },
  {
   "cell_type": "code",
   "execution_count": null,
   "metadata": {},
   "outputs": [],
   "source": []
  }
 ],
 "metadata": {
  "kernelspec": {
   "display_name": "Python 3",
   "language": "python",
   "name": "python3"
  },
  "language_info": {
   "codemirror_mode": {
    "name": "ipython",
    "version": 3
   },
   "file_extension": ".py",
   "mimetype": "text/x-python",
   "name": "python",
   "nbconvert_exporter": "python",
   "pygments_lexer": "ipython3",
   "version": "3.7.4"
  }
 },
 "nbformat": 4,
 "nbformat_minor": 2
}
