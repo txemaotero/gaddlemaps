{
 "cells": [
  {
   "cell_type": "code",
   "execution_count": 34,
   "metadata": {},
   "outputs": [],
   "source": [
    "import nglview\n",
    "from ipywidgets import Button, HBox, VBox, Layout, Label\n",
    "from IPython.display import display"
   ]
  },
  {
   "cell_type": "code",
   "execution_count": 46,
   "metadata": {},
   "outputs": [],
   "source": [
    "def create_restrictions(file1, file2):\n",
    "    restrictions = []\n",
    "    text = Label(value=\"Low Resolution\")\n",
    "    view = nglview.show_file(file1)\n",
    "    text2 = Label(value=\"High Resolution\")\n",
    "    view2 = nglview.show_file(file2)\n",
    "    button = Button(description=\"Add restriction\")\n",
    "    button2 = Button(description=\"Delete restriction\")\n",
    "\n",
    "    \n",
    "    restrictions_text = Label(value=\"Restrictions =\")\n",
    "    restrictions_val = Label(value=\"\")\n",
    "    \n",
    "    def update_restrictions():\n",
    "        restrictions_val.value = \", \".join([str(i) for i in restrictions])\n",
    "    \n",
    "    def on_button_press(*args):\n",
    "        restrictions.append((view.picked[\"atom1\"][\"index\"], view2.picked[\"atom1\"][\"index\"]))\n",
    "        update_restrictions()\n",
    "    \n",
    "    def delete_restriction(*args):\n",
    "        if restrictions:\n",
    "            restrictions.pop()\n",
    "        update_restrictions()\n",
    "    \n",
    "    button.on_click(on_button_press)\n",
    "    button2.on_click(delete_restriction)\n",
    "    display(VBox([text, view, text2, view2, HBox([button, button2]), HBox([restrictions_text, restrictions_val])]))\n",
    "    return restrictions\n",
    "    \n",
    "    "
   ]
  },
  {
   "cell_type": "code",
   "execution_count": 47,
   "metadata": {},
   "outputs": [
    {
     "data": {
      "application/vnd.jupyter.widget-view+json": {
       "model_id": "02e50c9aafa44cd6838ee44bd1ad7274",
       "version_major": 2,
       "version_minor": 0
      },
      "text/plain": [
       "VBox(children=(Label(value='Low Resolution'), NGLWidget(), Label(value='High Resolution'), NGLWidget(), HBox(c…"
      ]
     },
     "metadata": {},
     "output_type": "display_data"
    }
   ],
   "source": [
    "restrictions = create_restrictions(\"../../gaddlemaps/data/BMIM_AA.gro\", \"../../gaddlemaps/data/CUR_AA.gro\")"
   ]
  },
  {
   "cell_type": "code",
   "execution_count": 48,
   "metadata": {},
   "outputs": [
    {
     "name": "stdout",
     "output_type": "stream",
     "text": [
      "[(3, 15), (6, 25)]\n"
     ]
    }
   ],
   "source": [
    "print(restrictions)"
   ]
  },
  {
   "cell_type": "code",
   "execution_count": null,
   "metadata": {},
   "outputs": [],
   "source": []
  }
 ],
 "metadata": {
  "kernelspec": {
   "display_name": "Python 3",
   "language": "python",
   "name": "python3"
  },
  "language_info": {
   "codemirror_mode": {
    "name": "ipython",
    "version": 3
   },
   "file_extension": ".py",
   "mimetype": "text/x-python",
   "name": "python",
   "nbconvert_exporter": "python",
   "pygments_lexer": "ipython3",
   "version": "3.7.4"
  }
 },
 "nbformat": 4,
 "nbformat_minor": 2
}
